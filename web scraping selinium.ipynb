{
 "cells": [
  {
   "cell_type": "markdown",
   "id": "a81baef3",
   "metadata": {},
   "source": [
    "# Q1. a python program to scrape data for “Data Analyst” Job position in “Bangalore” location"
   ]
  },
  {
   "cell_type": "code",
   "execution_count": 1,
   "id": "98e4b998",
   "metadata": {},
   "outputs": [
    {
     "name": "stdout",
     "output_type": "stream",
     "text": [
      "Requirement already satisfied: selenium in c:\\users\\dell\\anaconda3\\lib\\site-packages (4.3.0)\n",
      "Requirement already satisfied: urllib3[secure,socks]~=1.26 in c:\\users\\dell\\anaconda3\\lib\\site-packages (from selenium) (1.26.7)\n",
      "Requirement already satisfied: trio~=0.17 in c:\\users\\dell\\anaconda3\\lib\\site-packages (from selenium) (0.21.0)\n",
      "Requirement already satisfied: trio-websocket~=0.9 in c:\\users\\dell\\anaconda3\\lib\\site-packages (from selenium) (0.9.2)\n",
      "Requirement already satisfied: sniffio in c:\\users\\dell\\anaconda3\\lib\\site-packages (from trio~=0.17->selenium) (1.2.0)\n",
      "Requirement already satisfied: cffi>=1.14 in c:\\users\\dell\\anaconda3\\lib\\site-packages (from trio~=0.17->selenium) (1.14.6)\n",
      "Requirement already satisfied: async-generator>=1.9 in c:\\users\\dell\\anaconda3\\lib\\site-packages (from trio~=0.17->selenium) (1.10)\n",
      "Requirement already satisfied: sortedcontainers in c:\\users\\dell\\anaconda3\\lib\\site-packages (from trio~=0.17->selenium) (2.4.0)\n",
      "Requirement already satisfied: outcome in c:\\users\\dell\\anaconda3\\lib\\site-packages (from trio~=0.17->selenium) (1.2.0)\n",
      "Requirement already satisfied: idna in c:\\users\\dell\\anaconda3\\lib\\site-packages (from trio~=0.17->selenium) (3.2)\n",
      "Requirement already satisfied: attrs>=19.2.0 in c:\\users\\dell\\anaconda3\\lib\\site-packages (from trio~=0.17->selenium) (21.2.0)\n",
      "Requirement already satisfied: pycparser in c:\\users\\dell\\anaconda3\\lib\\site-packages (from cffi>=1.14->trio~=0.17->selenium) (2.20)\n",
      "Requirement already satisfied: wsproto>=0.14 in c:\\users\\dell\\anaconda3\\lib\\site-packages (from trio-websocket~=0.9->selenium) (1.1.0)\n",
      "Requirement already satisfied: pyOpenSSL>=0.14 in c:\\users\\dell\\anaconda3\\lib\\site-packages (from urllib3[secure,socks]~=1.26->selenium) (21.0.0)\n",
      "Requirement already satisfied: cryptography>=1.3.4 in c:\\users\\dell\\anaconda3\\lib\\site-packages (from urllib3[secure,socks]~=1.26->selenium) (3.4.8)\n",
      "Requirement already satisfied: certifi in c:\\users\\dell\\anaconda3\\lib\\site-packages (from urllib3[secure,socks]~=1.26->selenium) (2021.10.8)\n",
      "Requirement already satisfied: PySocks!=1.5.7,<2.0,>=1.5.6 in c:\\users\\dell\\anaconda3\\lib\\site-packages (from urllib3[secure,socks]~=1.26->selenium) (1.7.1)\n",
      "Requirement already satisfied: six>=1.5.2 in c:\\users\\dell\\anaconda3\\lib\\site-packages (from pyOpenSSL>=0.14->urllib3[secure,socks]~=1.26->selenium) (1.16.0)\n",
      "Requirement already satisfied: h11<1,>=0.9.0 in c:\\users\\dell\\anaconda3\\lib\\site-packages (from wsproto>=0.14->trio-websocket~=0.9->selenium) (0.13.0)\n"
     ]
    }
   ],
   "source": [
    "!pip install selenium"
   ]
  },
  {
   "cell_type": "code",
   "execution_count": 2,
   "id": "02b22fd5",
   "metadata": {},
   "outputs": [],
   "source": [
    "#import require libraries\n",
    "import pandas as pd\n",
    "import selenium\n",
    "from selenium import webdriver\n",
    "import warnings\n",
    "warnings.filterwarnings(\"ignore\")"
   ]
  },
  {
   "cell_type": "code",
   "execution_count": 3,
   "id": "751287b4",
   "metadata": {},
   "outputs": [],
   "source": [
    "driver = webdriver.Chrome(r\"C:\\Users\\dell\\Downloads\\chromedriver_win32\\chromedriver.exe\")"
   ]
  },
  {
   "cell_type": "code",
   "execution_count": 4,
   "id": "598d8b5b",
   "metadata": {},
   "outputs": [],
   "source": [
    "#open webpage https://www.naukri.com/\n",
    "url = \" https://www.naukri.com/\"\n",
    "driver.get(url)"
   ]
  },
  {
   "cell_type": "code",
   "execution_count": 6,
   "id": "5301927d",
   "metadata": {},
   "outputs": [],
   "source": [
    "from selenium .webdriver.common.by import By"
   ]
  },
  {
   "cell_type": "code",
   "execution_count": 17,
   "id": "ecaa9a29",
   "metadata": {},
   "outputs": [
    {
     "data": {
      "text/plain": [
       "<selenium.webdriver.remote.webelement.WebElement (session=\"93aafc61840ad2f41f61521686fcd294\", element=\"159c47a0-43df-4c75-9da9-aa9a9b7360f7\")>"
      ]
     },
     "execution_count": 17,
     "metadata": {},
     "output_type": "execute_result"
    }
   ],
   "source": [
    "search_loaction=driver.find_element(By.XPATH,'/html/body/div[1]/div[2]/div[3]/div/div/div[5]/div/div/div/input') \n",
    "search_loaction"
   ]
  },
  {
   "cell_type": "code",
   "execution_count": 10,
   "id": "60d41ee3",
   "metadata": {},
   "outputs": [],
   "source": [
    "#searching job title Data Analyst\n",
    "search_job.send_keys(\"Data Analyst\")"
   ]
  },
  {
   "cell_type": "code",
   "execution_count": 19,
   "id": "009ac890",
   "metadata": {},
   "outputs": [],
   "source": [
    "search_field_loaction=driver.find_element(By.XPATH,'/html/body/div/div[2]/div[3]/div/div/div[5]/div/div/div/input') \n",
    "search_field_loaction.send_keys(\"Bangalore\")"
   ]
  },
  {
   "cell_type": "code",
   "execution_count": 20,
   "id": "a4946665",
   "metadata": {},
   "outputs": [],
   "source": [
    "search_button=driver.find_element(By.XPATH,\"/html/body/div/div[2]/div[3]/div/div/div[6]\")\n",
    "search_button.click()"
   ]
  },
  {
   "cell_type": "code",
   "execution_count": 21,
   "id": "18f66443",
   "metadata": {},
   "outputs": [],
   "source": [
    "job_titles=[]\n",
    "company_names=[]\n",
    "locations_list=[]\n",
    "experience_list=[]"
   ]
  },
  {
   "cell_type": "code",
   "execution_count": 22,
   "id": "e66a0214",
   "metadata": {},
   "outputs": [
    {
     "data": {
      "text/plain": [
       "[<selenium.webdriver.remote.webelement.WebElement (session=\"93aafc61840ad2f41f61521686fcd294\", element=\"1b653dbd-500d-4fd9-a759-1c94001bb421\")>,\n",
       " <selenium.webdriver.remote.webelement.WebElement (session=\"93aafc61840ad2f41f61521686fcd294\", element=\"53c35ec2-bf36-48fb-893e-94d60b50f588\")>,\n",
       " <selenium.webdriver.remote.webelement.WebElement (session=\"93aafc61840ad2f41f61521686fcd294\", element=\"5c9bb3a2-6fd6-4f51-b518-c02df130094f\")>,\n",
       " <selenium.webdriver.remote.webelement.WebElement (session=\"93aafc61840ad2f41f61521686fcd294\", element=\"7d593810-7f2c-4df2-8e36-c3333b6b2557\")>,\n",
       " <selenium.webdriver.remote.webelement.WebElement (session=\"93aafc61840ad2f41f61521686fcd294\", element=\"448985c1-ec80-40a2-afff-7e4e3450f70e\")>,\n",
       " <selenium.webdriver.remote.webelement.WebElement (session=\"93aafc61840ad2f41f61521686fcd294\", element=\"407ceb2c-9e86-48d4-94cb-9ca9daa797c8\")>,\n",
       " <selenium.webdriver.remote.webelement.WebElement (session=\"93aafc61840ad2f41f61521686fcd294\", element=\"3d062f37-2eff-4e92-b02c-fcd07cc724e3\")>,\n",
       " <selenium.webdriver.remote.webelement.WebElement (session=\"93aafc61840ad2f41f61521686fcd294\", element=\"7081ce4a-dad3-4bcd-8d30-089fac3a2273\")>,\n",
       " <selenium.webdriver.remote.webelement.WebElement (session=\"93aafc61840ad2f41f61521686fcd294\", element=\"e371be7f-5bc4-4006-9a50-502d65895bec\")>,\n",
       " <selenium.webdriver.remote.webelement.WebElement (session=\"93aafc61840ad2f41f61521686fcd294\", element=\"878b3db4-a49d-4c36-89d7-d0ac316944ca\")>]"
      ]
     },
     "execution_count": 22,
     "metadata": {},
     "output_type": "execute_result"
    }
   ],
   "source": [
    "titles_tags=driver.find_elements(By.XPATH,\"//a[@class='title fw500 ellipsis']\")\n",
    "titles_tags[0:10]"
   ]
  },
  {
   "cell_type": "code",
   "execution_count": 23,
   "id": "e4b6e4b2",
   "metadata": {},
   "outputs": [
    {
     "data": {
      "text/plain": [
       "['Sr.Business Data Analyst',\n",
       " 'Sr Data Analyst',\n",
       " 'Senior Data Analysis Analyst',\n",
       " 'Job opportunity For Data Analyst at Trellance - India',\n",
       " 'Associate Data Analyst',\n",
       " 'Associate Data Analyst',\n",
       " 'Data Analyst',\n",
       " 'Senior Data Analyst',\n",
       " 'Financial Data Analyst',\n",
       " 'Data Analyst II']"
      ]
     },
     "execution_count": 23,
     "metadata": {},
     "output_type": "execute_result"
    }
   ],
   "source": [
    "for i in titles_tags:\n",
    "    title=i.text\n",
    "    job_titles.append(title)\n",
    "job_titles[0:10]"
   ]
  },
  {
   "cell_type": "code",
   "execution_count": 26,
   "id": "6f9deee8",
   "metadata": {},
   "outputs": [
    {
     "data": {
      "text/plain": [
       "[<selenium.webdriver.remote.webelement.WebElement (session=\"93aafc61840ad2f41f61521686fcd294\", element=\"bc82bdf7-710d-436e-a962-fd5a4e896e9a\")>,\n",
       " <selenium.webdriver.remote.webelement.WebElement (session=\"93aafc61840ad2f41f61521686fcd294\", element=\"b66cc83b-e8e3-4579-b9af-ff43cb041bed\")>,\n",
       " <selenium.webdriver.remote.webelement.WebElement (session=\"93aafc61840ad2f41f61521686fcd294\", element=\"9330bfca-582b-41f7-bc8e-f968ca3f5886\")>,\n",
       " <selenium.webdriver.remote.webelement.WebElement (session=\"93aafc61840ad2f41f61521686fcd294\", element=\"27cbcbb4-38e2-4c16-926f-5d06664892cd\")>,\n",
       " <selenium.webdriver.remote.webelement.WebElement (session=\"93aafc61840ad2f41f61521686fcd294\", element=\"744e7cc6-7419-4cb5-aa24-6836e83722f2\")>,\n",
       " <selenium.webdriver.remote.webelement.WebElement (session=\"93aafc61840ad2f41f61521686fcd294\", element=\"af9e705f-49b1-4cd9-b6b7-2d167d99d924\")>,\n",
       " <selenium.webdriver.remote.webelement.WebElement (session=\"93aafc61840ad2f41f61521686fcd294\", element=\"748e413e-881d-4065-80c2-0d5f869e2d84\")>,\n",
       " <selenium.webdriver.remote.webelement.WebElement (session=\"93aafc61840ad2f41f61521686fcd294\", element=\"c432ddf4-d986-424c-bebd-335c968643cc\")>,\n",
       " <selenium.webdriver.remote.webelement.WebElement (session=\"93aafc61840ad2f41f61521686fcd294\", element=\"e30843f8-a0dc-4184-bd8c-8471c3c1f535\")>,\n",
       " <selenium.webdriver.remote.webelement.WebElement (session=\"93aafc61840ad2f41f61521686fcd294\", element=\"0a4d2848-c96e-423e-a34a-8d6ea5173ddd\")>]"
      ]
     },
     "execution_count": 26,
     "metadata": {},
     "output_type": "execute_result"
    }
   ],
   "source": [
    "companies_tags=driver.find_elements(By.XPATH,\"//a[@class='subTitle ellipsis fleft']\")\n",
    "companies_tags[0:10]"
   ]
  },
  {
   "cell_type": "code",
   "execution_count": 27,
   "id": "0e538d62",
   "metadata": {},
   "outputs": [
    {
     "data": {
      "text/plain": [
       "['Collabera',\n",
       " 'Thomson Reuters',\n",
       " 'Capco',\n",
       " 'CURise Analytics Pvt. Ltd.',\n",
       " 'Optum',\n",
       " 'Optum',\n",
       " 'Thomson Reuters',\n",
       " 'KrazyBee',\n",
       " 'Nuance India',\n",
       " 'Cerner']"
      ]
     },
     "execution_count": 27,
     "metadata": {},
     "output_type": "execute_result"
    }
   ],
   "source": [
    "for i in companies_tags:\n",
    "    company_name=i.text\n",
    "    company_names.append(company_name)\n",
    "company_names[0:10]"
   ]
  },
  {
   "cell_type": "code",
   "execution_count": 28,
   "id": "d8dd9a0e",
   "metadata": {},
   "outputs": [
    {
     "data": {
      "text/plain": [
       "[<selenium.webdriver.remote.webelement.WebElement (session=\"93aafc61840ad2f41f61521686fcd294\", element=\"b2ff0b2d-a8ec-4789-8131-45d0ee586634\")>,\n",
       " <selenium.webdriver.remote.webelement.WebElement (session=\"93aafc61840ad2f41f61521686fcd294\", element=\"5eaf291d-5ef5-42d5-8db0-b5ca72fd60e8\")>,\n",
       " <selenium.webdriver.remote.webelement.WebElement (session=\"93aafc61840ad2f41f61521686fcd294\", element=\"15652d63-f022-4426-aa89-06f3419579f9\")>,\n",
       " <selenium.webdriver.remote.webelement.WebElement (session=\"93aafc61840ad2f41f61521686fcd294\", element=\"c2eed016-da4a-4c2a-becb-a8b291f91b3b\")>,\n",
       " <selenium.webdriver.remote.webelement.WebElement (session=\"93aafc61840ad2f41f61521686fcd294\", element=\"71c69bab-6e98-4ba6-92cf-6096a32e6e06\")>,\n",
       " <selenium.webdriver.remote.webelement.WebElement (session=\"93aafc61840ad2f41f61521686fcd294\", element=\"66e23609-34ee-40f7-a0f4-6183e2d993b9\")>,\n",
       " <selenium.webdriver.remote.webelement.WebElement (session=\"93aafc61840ad2f41f61521686fcd294\", element=\"c6006550-2ec2-4711-b0b6-7bbb9657b8d5\")>,\n",
       " <selenium.webdriver.remote.webelement.WebElement (session=\"93aafc61840ad2f41f61521686fcd294\", element=\"80d6bc42-d678-4e8b-9290-1d926be58202\")>,\n",
       " <selenium.webdriver.remote.webelement.WebElement (session=\"93aafc61840ad2f41f61521686fcd294\", element=\"499b587d-7563-4dca-8463-4e0022303cf0\")>,\n",
       " <selenium.webdriver.remote.webelement.WebElement (session=\"93aafc61840ad2f41f61521686fcd294\", element=\"06b1c294-d97f-499c-ae30-e31ba84723fe\")>]"
      ]
     },
     "execution_count": 28,
     "metadata": {},
     "output_type": "execute_result"
    }
   ],
   "source": [
    "experience_tags=driver.find_elements(By.XPATH,\"//li[@class='fleft grey-text br2 placeHolderLi experience']/span[1]\")\n",
    "experience_tags[0:10]"
   ]
  },
  {
   "cell_type": "code",
   "execution_count": 29,
   "id": "7507e907",
   "metadata": {},
   "outputs": [
    {
     "data": {
      "text/plain": [
       "['6-11 Yrs',\n",
       " '5-8 Yrs',\n",
       " '7-12 Yrs',\n",
       " '0-2 Yrs',\n",
       " '2-7 Yrs',\n",
       " '1-4 Yrs',\n",
       " '2-3 Yrs',\n",
       " '3-6 Yrs',\n",
       " '3-8 Yrs',\n",
       " '2-4 Yrs']"
      ]
     },
     "execution_count": 29,
     "metadata": {},
     "output_type": "execute_result"
    }
   ],
   "source": [
    "for i in experience_tags:\n",
    "    experience=i.text\n",
    "    experience_list.append(experience)\n",
    "experience_list[0:10]"
   ]
  },
  {
   "cell_type": "code",
   "execution_count": 31,
   "id": "303f05ee",
   "metadata": {},
   "outputs": [
    {
     "data": {
      "text/plain": [
       "[<selenium.webdriver.remote.webelement.WebElement (session=\"93aafc61840ad2f41f61521686fcd294\", element=\"0d59a4d0-5311-465d-8bb6-0b2902b88806\")>,\n",
       " <selenium.webdriver.remote.webelement.WebElement (session=\"93aafc61840ad2f41f61521686fcd294\", element=\"fa15928e-e399-4527-bc37-c1f71ef86af4\")>,\n",
       " <selenium.webdriver.remote.webelement.WebElement (session=\"93aafc61840ad2f41f61521686fcd294\", element=\"58f553f6-c628-4b90-a637-3ee729b172cd\")>,\n",
       " <selenium.webdriver.remote.webelement.WebElement (session=\"93aafc61840ad2f41f61521686fcd294\", element=\"c2824efc-7df3-42e6-9ec2-11411ff9601f\")>,\n",
       " <selenium.webdriver.remote.webelement.WebElement (session=\"93aafc61840ad2f41f61521686fcd294\", element=\"b0e25f16-b7ba-4c4c-a141-8f0dcc1f6504\")>,\n",
       " <selenium.webdriver.remote.webelement.WebElement (session=\"93aafc61840ad2f41f61521686fcd294\", element=\"461b8b2e-9cd8-476a-8b67-263f39a36408\")>,\n",
       " <selenium.webdriver.remote.webelement.WebElement (session=\"93aafc61840ad2f41f61521686fcd294\", element=\"cfb33759-5a8b-4f1f-b7a1-b376e1b65875\")>,\n",
       " <selenium.webdriver.remote.webelement.WebElement (session=\"93aafc61840ad2f41f61521686fcd294\", element=\"339f77e7-bd78-4894-b0c7-ed05b37ce398\")>,\n",
       " <selenium.webdriver.remote.webelement.WebElement (session=\"93aafc61840ad2f41f61521686fcd294\", element=\"2f42c429-b3fb-4ecb-bca8-2afe49074a59\")>,\n",
       " <selenium.webdriver.remote.webelement.WebElement (session=\"93aafc61840ad2f41f61521686fcd294\", element=\"e3f1a454-689b-40f4-a08f-bb7bd315437d\")>]"
      ]
     },
     "execution_count": 31,
     "metadata": {},
     "output_type": "execute_result"
    }
   ],
   "source": [
    "location_tags=driver.find_elements(By.XPATH,\"//li[@class='fleft grey-text br2 placeHolderLi location']/span[1]\")\n",
    "location_tags[0:10]"
   ]
  },
  {
   "cell_type": "code",
   "execution_count": 32,
   "id": "6905588f",
   "metadata": {},
   "outputs": [
    {
     "data": {
      "text/plain": [
       "['Bangalore/Bengaluru, karnataka',\n",
       " 'Bangalore/Bengaluru',\n",
       " 'Bangalore/Bengaluru, Pune, Chennai',\n",
       " 'Bangalore/Bengaluru, Ahmedabad',\n",
       " 'Bangalore/Bengaluru',\n",
       " 'Bangalore/Bengaluru',\n",
       " 'Bangalore/Bengaluru',\n",
       " 'Bangalore/Bengaluru(Old Madras Road)',\n",
       " 'Bangalore/Bengaluru',\n",
       " 'Bangalore/Bengaluru']"
      ]
     },
     "execution_count": 32,
     "metadata": {},
     "output_type": "execute_result"
    }
   ],
   "source": [
    "for i in location_tags :\n",
    "    location=i.text\n",
    "    locations_list.append(location)\n",
    "locations_list[0:10]"
   ]
  },
  {
   "cell_type": "code",
   "execution_count": 34,
   "id": "5b23e94f",
   "metadata": {},
   "outputs": [],
   "source": [
    "jobs=pd.DataFrame({})\n",
    "jobs['title']=job_titles[:10]\n",
    "jobs['company']=company_names[:10]\n",
    "jobs['experience_required']=experience_list[:10]\n",
    "jobs['location']=locations_list[:10]"
   ]
  },
  {
   "cell_type": "code",
   "execution_count": 35,
   "id": "bd6a2d68",
   "metadata": {},
   "outputs": [
    {
     "data": {
      "text/html": [
       "<div>\n",
       "<style scoped>\n",
       "    .dataframe tbody tr th:only-of-type {\n",
       "        vertical-align: middle;\n",
       "    }\n",
       "\n",
       "    .dataframe tbody tr th {\n",
       "        vertical-align: top;\n",
       "    }\n",
       "\n",
       "    .dataframe thead th {\n",
       "        text-align: right;\n",
       "    }\n",
       "</style>\n",
       "<table border=\"1\" class=\"dataframe\">\n",
       "  <thead>\n",
       "    <tr style=\"text-align: right;\">\n",
       "      <th></th>\n",
       "      <th>title</th>\n",
       "      <th>company</th>\n",
       "      <th>experience_required</th>\n",
       "      <th>location</th>\n",
       "    </tr>\n",
       "  </thead>\n",
       "  <tbody>\n",
       "    <tr>\n",
       "      <th>0</th>\n",
       "      <td>Sr.Business Data Analyst</td>\n",
       "      <td>Collabera</td>\n",
       "      <td>6-11 Yrs</td>\n",
       "      <td>Bangalore/Bengaluru, karnataka</td>\n",
       "    </tr>\n",
       "    <tr>\n",
       "      <th>1</th>\n",
       "      <td>Sr Data Analyst</td>\n",
       "      <td>Thomson Reuters</td>\n",
       "      <td>5-8 Yrs</td>\n",
       "      <td>Bangalore/Bengaluru</td>\n",
       "    </tr>\n",
       "    <tr>\n",
       "      <th>2</th>\n",
       "      <td>Senior Data Analysis Analyst</td>\n",
       "      <td>Capco</td>\n",
       "      <td>7-12 Yrs</td>\n",
       "      <td>Bangalore/Bengaluru, Pune, Chennai</td>\n",
       "    </tr>\n",
       "    <tr>\n",
       "      <th>3</th>\n",
       "      <td>Job opportunity For Data Analyst at Trellance ...</td>\n",
       "      <td>CURise Analytics Pvt. Ltd.</td>\n",
       "      <td>0-2 Yrs</td>\n",
       "      <td>Bangalore/Bengaluru, Ahmedabad</td>\n",
       "    </tr>\n",
       "    <tr>\n",
       "      <th>4</th>\n",
       "      <td>Associate Data Analyst</td>\n",
       "      <td>Optum</td>\n",
       "      <td>2-7 Yrs</td>\n",
       "      <td>Bangalore/Bengaluru</td>\n",
       "    </tr>\n",
       "    <tr>\n",
       "      <th>5</th>\n",
       "      <td>Associate Data Analyst</td>\n",
       "      <td>Optum</td>\n",
       "      <td>1-4 Yrs</td>\n",
       "      <td>Bangalore/Bengaluru</td>\n",
       "    </tr>\n",
       "    <tr>\n",
       "      <th>6</th>\n",
       "      <td>Data Analyst</td>\n",
       "      <td>Thomson Reuters</td>\n",
       "      <td>2-3 Yrs</td>\n",
       "      <td>Bangalore/Bengaluru</td>\n",
       "    </tr>\n",
       "    <tr>\n",
       "      <th>7</th>\n",
       "      <td>Senior Data Analyst</td>\n",
       "      <td>KrazyBee</td>\n",
       "      <td>3-6 Yrs</td>\n",
       "      <td>Bangalore/Bengaluru(Old Madras Road)</td>\n",
       "    </tr>\n",
       "    <tr>\n",
       "      <th>8</th>\n",
       "      <td>Financial Data Analyst</td>\n",
       "      <td>Nuance India</td>\n",
       "      <td>3-8 Yrs</td>\n",
       "      <td>Bangalore/Bengaluru</td>\n",
       "    </tr>\n",
       "    <tr>\n",
       "      <th>9</th>\n",
       "      <td>Data Analyst II</td>\n",
       "      <td>Cerner</td>\n",
       "      <td>2-4 Yrs</td>\n",
       "      <td>Bangalore/Bengaluru</td>\n",
       "    </tr>\n",
       "  </tbody>\n",
       "</table>\n",
       "</div>"
      ],
      "text/plain": [
       "                                               title  \\\n",
       "0                           Sr.Business Data Analyst   \n",
       "1                                    Sr Data Analyst   \n",
       "2                       Senior Data Analysis Analyst   \n",
       "3  Job opportunity For Data Analyst at Trellance ...   \n",
       "4                             Associate Data Analyst   \n",
       "5                             Associate Data Analyst   \n",
       "6                                       Data Analyst   \n",
       "7                                Senior Data Analyst   \n",
       "8                             Financial Data Analyst   \n",
       "9                                    Data Analyst II   \n",
       "\n",
       "                      company experience_required  \\\n",
       "0                   Collabera            6-11 Yrs   \n",
       "1             Thomson Reuters             5-8 Yrs   \n",
       "2                       Capco            7-12 Yrs   \n",
       "3  CURise Analytics Pvt. Ltd.             0-2 Yrs   \n",
       "4                       Optum             2-7 Yrs   \n",
       "5                       Optum             1-4 Yrs   \n",
       "6             Thomson Reuters             2-3 Yrs   \n",
       "7                    KrazyBee             3-6 Yrs   \n",
       "8                Nuance India             3-8 Yrs   \n",
       "9                      Cerner             2-4 Yrs   \n",
       "\n",
       "                               location  \n",
       "0        Bangalore/Bengaluru, karnataka  \n",
       "1                   Bangalore/Bengaluru  \n",
       "2    Bangalore/Bengaluru, Pune, Chennai  \n",
       "3        Bangalore/Bengaluru, Ahmedabad  \n",
       "4                   Bangalore/Bengaluru  \n",
       "5                   Bangalore/Bengaluru  \n",
       "6                   Bangalore/Bengaluru  \n",
       "7  Bangalore/Bengaluru(Old Madras Road)  \n",
       "8                   Bangalore/Bengaluru  \n",
       "9                   Bangalore/Bengaluru  "
      ]
     },
     "execution_count": 35,
     "metadata": {},
     "output_type": "execute_result"
    }
   ],
   "source": [
    "jobs"
   ]
  },
  {
   "cell_type": "markdown",
   "id": "80b36a12",
   "metadata": {},
   "source": [
    "# 2.a python program to scrape data for “Data Scientist” Job position in “Bangalore” location. You have to scrape the job-title, job-location, company_name. You have to scrape first 10 jobs data."
   ]
  },
  {
   "cell_type": "code",
   "execution_count": 145,
   "id": "5b5b903d",
   "metadata": {},
   "outputs": [],
   "source": [
    "driver=webdriver.Chrome(\"chromedriver.exe\")\n",
    "\n",
    "driver.get(\"https://www.naukri.com/\")\n",
    "time.sleep(3)"
   ]
  },
  {
   "cell_type": "code",
   "execution_count": 146,
   "id": "41f11b88",
   "metadata": {},
   "outputs": [],
   "source": [
    "from selenium .webdriver.common.by import By"
   ]
  },
  {
   "cell_type": "code",
   "execution_count": 147,
   "id": "f17e21b3",
   "metadata": {},
   "outputs": [],
   "source": [
    "search_field_designation = driver.find_element(By.XPATH,\"/html/body/div[1]/div[2]/div[3]/div/div/div[5]/div/div/div/input\")\n",
    "search_field_designation.send_keys(\"Data Scientist\")\n",
    "search_location=driver.find_element(By.XPATH,'/html/body/div/div[2]/div[3]/div/div/div[5]/div/div/div/input')\n",
    "search_location.send_keys(\"Banglore\")\n",
    "search_button=driver.find_element(By.XPATH,'/html/body/div/div[2]/div[3]/div/div/div[6]')\n",
    "search_button.click()"
   ]
  },
  {
   "cell_type": "code",
   "execution_count": 148,
   "id": "ba151ed4",
   "metadata": {},
   "outputs": [],
   "source": [
    "job_title=[]\n",
    "job_location=[]\n",
    "company=[]"
   ]
  },
  {
   "cell_type": "code",
   "execution_count": 149,
   "id": "ee758fc0",
   "metadata": {},
   "outputs": [
    {
     "data": {
      "text/html": [
       "<div>\n",
       "<style scoped>\n",
       "    .dataframe tbody tr th:only-of-type {\n",
       "        vertical-align: middle;\n",
       "    }\n",
       "\n",
       "    .dataframe tbody tr th {\n",
       "        vertical-align: top;\n",
       "    }\n",
       "\n",
       "    .dataframe thead th {\n",
       "        text-align: right;\n",
       "    }\n",
       "</style>\n",
       "<table border=\"1\" class=\"dataframe\">\n",
       "  <thead>\n",
       "    <tr style=\"text-align: right;\">\n",
       "      <th></th>\n",
       "      <th>Job-Title</th>\n",
       "      <th>Job-Location</th>\n",
       "      <th>Company_Name</th>\n",
       "    </tr>\n",
       "  </thead>\n",
       "  <tbody>\n",
       "  </tbody>\n",
       "</table>\n",
       "</div>"
      ],
      "text/plain": [
       "Empty DataFrame\n",
       "Columns: [Job-Title, Job-Location, Company_Name]\n",
       "Index: []"
      ]
     },
     "execution_count": 149,
     "metadata": {},
     "output_type": "execute_result"
    }
   ],
   "source": [
    "job_tag=driver.find_elements(By.XPATH,\"//a[@class='title fw500 ellipsis']\")\n",
    "job_tag=job_tag[0:10]\n",
    "for i in job_tag:\n",
    "    job_title.append(i.text)\n",
    "job_loc=driver.find_elements(By.XPATH,\"//li[@class='fleft grey-text br2 placeHolderLi location']\")\n",
    "job_loc=job_loc[0:10]\n",
    "for i in job_loc:\n",
    "    job_location.append(i.text)\n",
    "comp=driver.find_elements(By.XPATH,\"//div[@class='mt-7 companyInfo subheading lh16']\")\n",
    "comp=comp[0:10]\n",
    "for i in comp:\n",
    "    company.append(i.text.split('\\n')[0])\n",
    "driver.close()\n",
    "data=pd.DataFrame({'Job-Title':job_title, 'Job-Location':job_location,'Company_Name':company})\n",
    "data"
   ]
  },
  {
   "cell_type": "markdown",
   "id": "4d33b3ca",
   "metadata": {},
   "source": [
    "# Q3: In this question you have to scrape data using the filters available on the webpage as shown below You have to use the location and salary filter.You have to scrape data for “Data Scientist” designation for first 10 job results.You have to scrape the job-title, job-location, company name, experience required. The location filter to be used is “Delhi/NCR”. The salary filter to be used is “3-6” lakh"
   ]
  },
  {
   "cell_type": "code",
   "execution_count": 180,
   "id": "30a638e1",
   "metadata": {},
   "outputs": [],
   "source": [
    "driver=webdriver.Chrome(\"chromedriver.exe\")\n",
    "\n",
    "driver.get(\"https://www.naukri.com/\")\n",
    "time.sleep(3)"
   ]
  },
  {
   "cell_type": "code",
   "execution_count": 181,
   "id": "517f804f",
   "metadata": {},
   "outputs": [],
   "source": [
    "from selenium .webdriver.common.by import By"
   ]
  },
  {
   "cell_type": "code",
   "execution_count": 183,
   "id": "2ced9dde",
   "metadata": {},
   "outputs": [],
   "source": [
    "search_field_designation=driver.find_element(By.CLASS_NAME,\"suggestor-input\")\n",
    "search_field_designation.send_keys(\"Data Scientist\")\n",
    "search_button=driver.find_element(By.XPATH,'/html/body/div/div[2]/div[3]/div/div/div[6]')\n",
    "search_button.click()"
   ]
  },
  {
   "cell_type": "code",
   "execution_count": 184,
   "id": "35a9371d",
   "metadata": {},
   "outputs": [],
   "source": [
    "loc_filter=driver.find_element(By.XPATH,'/html/body/div[1]/div[3]/div[2]/section[1]/div[2]/div[5]/div[2]/div[3]/label/p/span[1]')\n",
    "loc_filter.click()"
   ]
  },
  {
   "cell_type": "code",
   "execution_count": 185,
   "id": "20f7fe6a",
   "metadata": {},
   "outputs": [],
   "source": [
    "sal_filter=driver.find_element(By.XPATH,'/html/body/div[1]/div[3]/div[2]/section[1]/div[2]/div[6]/div[2]/div[2]/label/p/span[1]')\n",
    "sal_filter.click()"
   ]
  },
  {
   "cell_type": "code",
   "execution_count": 186,
   "id": "5c5e1f4d",
   "metadata": {},
   "outputs": [],
   "source": [
    "job_title=[]\n",
    "job_location=[]\n",
    "company=[]\n",
    "exp=[]"
   ]
  },
  {
   "cell_type": "code",
   "execution_count": 187,
   "id": "962e23c5",
   "metadata": {},
   "outputs": [
    {
     "data": {
      "text/html": [
       "<div>\n",
       "<style scoped>\n",
       "    .dataframe tbody tr th:only-of-type {\n",
       "        vertical-align: middle;\n",
       "    }\n",
       "\n",
       "    .dataframe tbody tr th {\n",
       "        vertical-align: top;\n",
       "    }\n",
       "\n",
       "    .dataframe thead th {\n",
       "        text-align: right;\n",
       "    }\n",
       "</style>\n",
       "<table border=\"1\" class=\"dataframe\">\n",
       "  <thead>\n",
       "    <tr style=\"text-align: right;\">\n",
       "      <th></th>\n",
       "      <th>Job-Title</th>\n",
       "      <th>Job-Location</th>\n",
       "      <th>Company_Name</th>\n",
       "      <th>Experience_Required</th>\n",
       "    </tr>\n",
       "  </thead>\n",
       "  <tbody>\n",
       "    <tr>\n",
       "      <th>0</th>\n",
       "      <td>DigitalBCG GAMMA Data Scientist</td>\n",
       "      <td>New Delhi, Bangalore/Bengaluru</td>\n",
       "      <td>Boston Consulting Group</td>\n",
       "      <td>2-5 Yrs</td>\n",
       "    </tr>\n",
       "    <tr>\n",
       "      <th>1</th>\n",
       "      <td>Data Scientist - Noida/Bangalore</td>\n",
       "      <td>Noida, Bangalore/Bengaluru</td>\n",
       "      <td>EXL</td>\n",
       "      <td>5-10 Yrs</td>\n",
       "    </tr>\n",
       "    <tr>\n",
       "      <th>2</th>\n",
       "      <td>Senior Associate - Data Science</td>\n",
       "      <td>Mumbai, Hyderabad/Secunderabad, Gurgaon/Gurugr...</td>\n",
       "      <td>Black Turtle</td>\n",
       "      <td>4-7 Yrs</td>\n",
       "    </tr>\n",
       "    <tr>\n",
       "      <th>3</th>\n",
       "      <td>Data Scientist For Healthcare Product team</td>\n",
       "      <td>Delhi / NCR, Chennai, Bangalore/Bengaluru</td>\n",
       "      <td>8KMiles Software Services</td>\n",
       "      <td>2-7 Yrs</td>\n",
       "    </tr>\n",
       "    <tr>\n",
       "      <th>4</th>\n",
       "      <td>Data Scientist For Healthcare Product team</td>\n",
       "      <td>Delhi / NCR, Chennai, Bangalore/Bengaluru</td>\n",
       "      <td>8KMiles Software Services</td>\n",
       "      <td>2-7 Yrs</td>\n",
       "    </tr>\n",
       "    <tr>\n",
       "      <th>5</th>\n",
       "      <td>Data Scientist - Machine learning AI</td>\n",
       "      <td>Delhi / NCR, Bangalore/Bengaluru, Mumbai (All ...</td>\n",
       "      <td>Teq Analytics</td>\n",
       "      <td>3-8 Yrs</td>\n",
       "    </tr>\n",
       "    <tr>\n",
       "      <th>6</th>\n",
       "      <td>Data Scientist - MIND Infotech</td>\n",
       "      <td>Noida</td>\n",
       "      <td>MOTHERSONSUMI INFOTECH &amp; DESIGNS LIMITED</td>\n",
       "      <td>4-8 Yrs</td>\n",
       "    </tr>\n",
       "    <tr>\n",
       "      <th>7</th>\n",
       "      <td>Data Scientist - Engine Algorithm</td>\n",
       "      <td>Delhi / NCR, Kolkata, Mumbai, Hyderabad/Secund...</td>\n",
       "      <td>Primo Hiring</td>\n",
       "      <td>1-3 Yrs</td>\n",
       "    </tr>\n",
       "    <tr>\n",
       "      <th>8</th>\n",
       "      <td>Knowledge/Data Scientist</td>\n",
       "      <td>Delhi / NCR</td>\n",
       "      <td>BOLD Technology Systems</td>\n",
       "      <td>3-6 Yrs</td>\n",
       "    </tr>\n",
       "    <tr>\n",
       "      <th>9</th>\n",
       "      <td>Data Scientist</td>\n",
       "      <td>Delhi / NCR, Pune, Bangalore/Bengaluru</td>\n",
       "      <td>Mount Talent Consulting Private Limited</td>\n",
       "      <td>2-4 Yrs</td>\n",
       "    </tr>\n",
       "  </tbody>\n",
       "</table>\n",
       "</div>"
      ],
      "text/plain": [
       "                                    Job-Title  \\\n",
       "0             DigitalBCG GAMMA Data Scientist   \n",
       "1            Data Scientist - Noida/Bangalore   \n",
       "2             Senior Associate - Data Science   \n",
       "3  Data Scientist For Healthcare Product team   \n",
       "4  Data Scientist For Healthcare Product team   \n",
       "5        Data Scientist - Machine learning AI   \n",
       "6              Data Scientist - MIND Infotech   \n",
       "7           Data Scientist - Engine Algorithm   \n",
       "8                    Knowledge/Data Scientist   \n",
       "9                              Data Scientist   \n",
       "\n",
       "                                        Job-Location  \\\n",
       "0                     New Delhi, Bangalore/Bengaluru   \n",
       "1                         Noida, Bangalore/Bengaluru   \n",
       "2  Mumbai, Hyderabad/Secunderabad, Gurgaon/Gurugr...   \n",
       "3          Delhi / NCR, Chennai, Bangalore/Bengaluru   \n",
       "4          Delhi / NCR, Chennai, Bangalore/Bengaluru   \n",
       "5  Delhi / NCR, Bangalore/Bengaluru, Mumbai (All ...   \n",
       "6                                              Noida   \n",
       "7  Delhi / NCR, Kolkata, Mumbai, Hyderabad/Secund...   \n",
       "8                                        Delhi / NCR   \n",
       "9             Delhi / NCR, Pune, Bangalore/Bengaluru   \n",
       "\n",
       "                               Company_Name Experience_Required  \n",
       "0                   Boston Consulting Group             2-5 Yrs  \n",
       "1                                       EXL            5-10 Yrs  \n",
       "2                              Black Turtle             4-7 Yrs  \n",
       "3                 8KMiles Software Services             2-7 Yrs  \n",
       "4                 8KMiles Software Services             2-7 Yrs  \n",
       "5                             Teq Analytics             3-8 Yrs  \n",
       "6  MOTHERSONSUMI INFOTECH & DESIGNS LIMITED             4-8 Yrs  \n",
       "7                              Primo Hiring             1-3 Yrs  \n",
       "8                   BOLD Technology Systems             3-6 Yrs  \n",
       "9   Mount Talent Consulting Private Limited             2-4 Yrs  "
      ]
     },
     "execution_count": 187,
     "metadata": {},
     "output_type": "execute_result"
    }
   ],
   "source": [
    "job_tag=driver.find_elements(By.XPATH,\"//a[@class='title fw500 ellipsis']\")\n",
    "job_tag=job_tag[0:10]\n",
    "for i in job_tag:\n",
    "    job_title.append(i.text)\n",
    "job_loc=driver.find_elements(By.XPATH,\"//li[@class='fleft grey-text br2 placeHolderLi location']\")\n",
    "job_loc=job_loc[0:10]\n",
    "for i in job_loc:\n",
    "    job_location.append(i.text)\n",
    "#job_location\n",
    "comp=driver.find_elements(By.XPATH,\"//div[@class='mt-7 companyInfo subheading lh16']\")\n",
    "comp=comp[0:10]\n",
    "for i in comp:\n",
    "    company.append(i.text.split('\\n')[0])\n",
    "#company\n",
    "expn=driver.find_elements(By.XPATH,'//li[@class=\"fleft grey-text br2 placeHolderLi experience\"]')\n",
    "expn=expn[0:10]\n",
    "for i in expn:\n",
    "    exp.append(i.text)\n",
    "driver.close()\n",
    "#exp\n",
    "data=pd.DataFrame({'Job-Title':job_title, 'Job-Location':job_location,'Company_Name':company,'Experience_Required':exp})\n",
    "data"
   ]
  },
  {
   "cell_type": "markdown",
   "id": "411ca61c",
   "metadata": {},
   "source": [
    "# 4.Scrape data of first 100 sunglasses listings on flipkart.com. "
   ]
  },
  {
   "cell_type": "code",
   "execution_count": 188,
   "id": "a07ca870",
   "metadata": {},
   "outputs": [],
   "source": [
    "#import require libraries\n",
    "import pandas as pd\n",
    "import selenium\n",
    "from selenium import webdriver\n",
    "import warnings\n",
    "warnings.filterwarnings(\"ignore\")\n",
    "from selenium .webdriver.common.by import By"
   ]
  },
  {
   "cell_type": "code",
   "execution_count": 56,
   "id": "a911f045",
   "metadata": {},
   "outputs": [],
   "source": [
    "driver = webdriver.Chrome(r\"C:\\Users\\dell\\Downloads\\chromedriver_win32\\chromedriver.exe\")"
   ]
  },
  {
   "cell_type": "code",
   "execution_count": 57,
   "id": "665969f7",
   "metadata": {},
   "outputs": [],
   "source": [
    "driver=webdriver.Chrome(\"chromedriver.exe\")\n",
    "time.sleep(2)"
   ]
  },
  {
   "cell_type": "code",
   "execution_count": 59,
   "id": "9e693ca3",
   "metadata": {},
   "outputs": [],
   "source": [
    "url = \"https://www.flipkart.com/\"\n",
    "driver.get(url)"
   ]
  },
  {
   "cell_type": "code",
   "execution_count": 61,
   "id": "823e1a48",
   "metadata": {},
   "outputs": [
    {
     "data": {
      "text/plain": [
       "<selenium.webdriver.remote.webelement.WebElement (session=\"a8aa14a45b9fbd43152d14e9fc270695\", element=\"ed49bf1d-8a46-458a-8e89-ae5494d5b84a\")>"
      ]
     },
     "execution_count": 61,
     "metadata": {},
     "output_type": "execute_result"
    }
   ],
   "source": [
    "# Finding element for search bar\n",
    "search_g= driver.find_element(By.XPATH,\"//input[@class='_3704LK']\") \n",
    "search_g"
   ]
  },
  {
   "cell_type": "code",
   "execution_count": 62,
   "id": "a372e9fa",
   "metadata": {},
   "outputs": [],
   "source": [
    "search_g.send_keys('sunglasses')"
   ]
  },
  {
   "cell_type": "code",
   "execution_count": 63,
   "id": "2eef7ae1",
   "metadata": {},
   "outputs": [],
   "source": [
    "search_button=driver.find_element(By.XPATH,\"//button[@class='L0Z3Pu']\")\n",
    "search_button.click()"
   ]
  },
  {
   "cell_type": "code",
   "execution_count": 64,
   "id": "b1c8e85e",
   "metadata": {},
   "outputs": [],
   "source": [
    "B_name=[]\n",
    "Price=[]\n",
    "P_desc=[]"
   ]
  },
  {
   "cell_type": "code",
   "execution_count": 65,
   "id": "4fb62fa8",
   "metadata": {},
   "outputs": [],
   "source": [
    "for i in range(3):\n",
    "    b_name=driver.find_elements(By.XPATH,\"//div[@class='_2WkVRV']\")"
   ]
  },
  {
   "cell_type": "code",
   "execution_count": 66,
   "id": "24f8833f",
   "metadata": {},
   "outputs": [
    {
     "data": {
      "text/plain": [
       "['VINCENT CHASE',\n",
       " 'VINCENT CHASE',\n",
       " 'DAHAAZIL',\n",
       " 'Fastrack',\n",
       " 'Elligator',\n",
       " 'SUNBEE',\n",
       " 'SUNBEE',\n",
       " 'GANSTA',\n",
       " 'PIRASO',\n",
       " 'SRPM',\n",
       " 'SHAAH COLLECTIONS',\n",
       " 'ROYAL SON',\n",
       " 'Fastrack',\n",
       " 'PIRASO',\n",
       " 'Fastrack',\n",
       " 'ROZZETTA CRAFT',\n",
       " 'PIRASO',\n",
       " 'Lee Topper',\n",
       " 'Lee Topper',\n",
       " 'elegante',\n",
       " 'ROZZETTA CRAFT',\n",
       " 'PIRASO',\n",
       " 'PIRASO',\n",
       " 'ROYAL SON',\n",
       " 'PIRASO',\n",
       " 'ROZZETTA CRAFT',\n",
       " 'Fastrack',\n",
       " 'ROYAL SON',\n",
       " 'PIRASO',\n",
       " 'NuVew',\n",
       " 'SHAAH COLLECTIONS',\n",
       " 'elegante',\n",
       " 'Sewell',\n",
       " 'ROZZETTA CRAFT',\n",
       " 'Mi',\n",
       " 'VINCENT CHASE',\n",
       " 'SRPM',\n",
       " 'SUNBEE',\n",
       " 'Fastrack',\n",
       " 'GANSTA']"
      ]
     },
     "execution_count": 66,
     "metadata": {},
     "output_type": "execute_result"
    }
   ],
   "source": [
    "for j  in b_name:\n",
    "        B_name.append(j.text)\n",
    "B_name[:100]"
   ]
  },
  {
   "cell_type": "code",
   "execution_count": 68,
   "id": "46805439",
   "metadata": {},
   "outputs": [],
   "source": [
    "for i in range(3): \n",
    "    p_desc=driver.find_elements(By.XPATH,\"//a[@class='IRpwTa']\")"
   ]
  },
  {
   "cell_type": "code",
   "execution_count": 69,
   "id": "60acb595",
   "metadata": {},
   "outputs": [
    {
     "data": {
      "text/plain": [
       "['by Lenskart Polarized, UV Protection Cat-eye Sunglasses...',\n",
       " 'by Lenskart Polarized, UV Protection Round Sunglasses (...',\n",
       " 'UV Protection, Night Vision, Riding Glasses Wayfarer, W...',\n",
       " 'UV Protection Rectangular Sunglasses (Free Size)',\n",
       " 'UV Protection Round Sunglasses (54)',\n",
       " 'UV Protection, Polarized, Mirrored Retro Square Sunglas...',\n",
       " 'UV Protection, Polarized Wayfarer Sunglasses (Free Size...',\n",
       " 'UV Protection, Gradient Aviator Sunglasses (57)',\n",
       " 'UV Protection Aviator Sunglasses (54)',\n",
       " 'UV Protection Wayfarer Sunglasses (50)',\n",
       " 'UV Protection, Polarized, Mirrored Rectangular Sunglass...',\n",
       " 'Polarized, UV Protection Aviator Sunglasses (57)',\n",
       " 'UV Protection Wayfarer Sunglasses (Free Size)',\n",
       " 'UV Protection Aviator Sunglasses (54)',\n",
       " 'UV Protection Aviator Sunglasses (Free Size)',\n",
       " 'UV Protection Spectacle Sunglasses (Free Size)',\n",
       " 'UV Protection Aviator Sunglasses (58)',\n",
       " 'Riding Glasses Wrap-around Sunglasses (Free Size)',\n",
       " 'UV Protection Cat-eye Sunglasses (Free Size)',\n",
       " 'Polarized, Riding Glasses, Night Vision Sports Sunglass...',\n",
       " 'Polarized, Riding Glasses Sports, Wrap-around Sunglasse...',\n",
       " 'UV Protection Rectangular Sunglasses (52)',\n",
       " 'UV Protection Wayfarer Sunglasses (32)',\n",
       " 'Polarized, UV Protection Retro Square Sunglasses (55)',\n",
       " 'UV Protection Aviator Sunglasses (54)',\n",
       " 'UV Protection Rectangular Sunglasses (Free Size)',\n",
       " 'Gradient, UV Protection Wayfarer Sunglasses (Free Size)',\n",
       " 'Polarized, UV Protection Wayfarer, Retro Square Sunglas...',\n",
       " 'UV Protection Over-sized Sunglasses (65)',\n",
       " 'UV Protection Sports Sunglasses (62)',\n",
       " 'UV Protection Round Sunglasses (Free Size)',\n",
       " 'Polarized, Riding Glasses, Night Vision Sports Sunglass...',\n",
       " 'Mirrored, Night Vision, UV Protection, Riding Glasses S...',\n",
       " 'UV Protection, Gradient Retro Square Sunglasses (Free S...',\n",
       " 'Polarized Aviator Sunglasses (Free Size)',\n",
       " 'by Lenskart UV Protection Wayfarer Sunglasses (51)',\n",
       " 'Others Wayfarer, Retro Square Sunglasses (50)',\n",
       " 'UV Protection, Polarized, Mirrored Wayfarer Sunglasses ...',\n",
       " 'UV Protection Aviator Sunglasses (58)',\n",
       " 'UV Protection Aviator Sunglasses (57)']"
      ]
     },
     "execution_count": 69,
     "metadata": {},
     "output_type": "execute_result"
    }
   ],
   "source": [
    "for k in p_desc:\n",
    "        P_desc.append(k.text)\n",
    "P_desc[:100]"
   ]
  },
  {
   "cell_type": "code",
   "execution_count": 70,
   "id": "fd72a3be",
   "metadata": {},
   "outputs": [],
   "source": [
    "for i in range(3): \n",
    "    price =driver.find_elements(By.XPATH,\"//div[@class='_30jeq3']\")"
   ]
  },
  {
   "cell_type": "code",
   "execution_count": 71,
   "id": "83eb7cd5",
   "metadata": {},
   "outputs": [
    {
     "data": {
      "text/plain": [
       "['₹799',\n",
       " '₹949',\n",
       " '₹177',\n",
       " '₹639',\n",
       " '₹315',\n",
       " '₹259',\n",
       " '₹283',\n",
       " '₹242',\n",
       " '₹224',\n",
       " '₹224',\n",
       " '₹195',\n",
       " '₹759',\n",
       " '₹799',\n",
       " '₹224',\n",
       " '₹639',\n",
       " '₹379',\n",
       " '₹359',\n",
       " '₹299',\n",
       " '₹229',\n",
       " '₹499',\n",
       " '₹474',\n",
       " '₹306',\n",
       " '₹226',\n",
       " '₹616',\n",
       " '₹246',\n",
       " '₹303',\n",
       " '₹719',\n",
       " '₹664',\n",
       " '₹359',\n",
       " '₹291',\n",
       " '₹279',\n",
       " '₹499',\n",
       " '₹279',\n",
       " '₹331',\n",
       " '₹839',\n",
       " '₹749',\n",
       " '₹219',\n",
       " '₹283',\n",
       " '₹1,039',\n",
       " '₹314']"
      ]
     },
     "execution_count": 71,
     "metadata": {},
     "output_type": "execute_result"
    }
   ],
   "source": [
    "for l in price:\n",
    "        Price.append(l.text)\n",
    "Price[:100] "
   ]
  },
  {
   "cell_type": "code",
   "execution_count": 72,
   "id": "e2a250da",
   "metadata": {},
   "outputs": [
    {
     "name": "stdout",
     "output_type": "stream",
     "text": [
      "40\n",
      "40\n",
      "40\n"
     ]
    },
    {
     "data": {
      "text/plain": [
       "(None, None, None)"
      ]
     },
     "execution_count": 72,
     "metadata": {},
     "output_type": "execute_result"
    }
   ],
   "source": [
    "#So lets check th length of ech element.\n",
    "print(len(B_name[:40])),print(len(Price[:40])),print(len(P_desc[:40]))"
   ]
  },
  {
   "cell_type": "code",
   "execution_count": 73,
   "id": "2f39533b",
   "metadata": {},
   "outputs": [],
   "source": [
    "sun_gl=pd.DataFrame({})\n",
    "sun_gl['Brand_name']=B_name[:40]\n",
    "sun_gl['P_price']=Price[:40]\n",
    "sun_gl['Pr_desc']=P_desc[:40]"
   ]
  },
  {
   "cell_type": "code",
   "execution_count": 74,
   "id": "23491886",
   "metadata": {},
   "outputs": [
    {
     "data": {
      "text/html": [
       "<div>\n",
       "<style scoped>\n",
       "    .dataframe tbody tr th:only-of-type {\n",
       "        vertical-align: middle;\n",
       "    }\n",
       "\n",
       "    .dataframe tbody tr th {\n",
       "        vertical-align: top;\n",
       "    }\n",
       "\n",
       "    .dataframe thead th {\n",
       "        text-align: right;\n",
       "    }\n",
       "</style>\n",
       "<table border=\"1\" class=\"dataframe\">\n",
       "  <thead>\n",
       "    <tr style=\"text-align: right;\">\n",
       "      <th></th>\n",
       "      <th>Brand_name</th>\n",
       "      <th>P_price</th>\n",
       "      <th>Pr_desc</th>\n",
       "    </tr>\n",
       "  </thead>\n",
       "  <tbody>\n",
       "    <tr>\n",
       "      <th>0</th>\n",
       "      <td>VINCENT CHASE</td>\n",
       "      <td>₹799</td>\n",
       "      <td>by Lenskart Polarized, UV Protection Cat-eye S...</td>\n",
       "    </tr>\n",
       "    <tr>\n",
       "      <th>1</th>\n",
       "      <td>VINCENT CHASE</td>\n",
       "      <td>₹949</td>\n",
       "      <td>by Lenskart Polarized, UV Protection Round Sun...</td>\n",
       "    </tr>\n",
       "    <tr>\n",
       "      <th>2</th>\n",
       "      <td>DAHAAZIL</td>\n",
       "      <td>₹177</td>\n",
       "      <td>UV Protection, Night Vision, Riding Glasses Wa...</td>\n",
       "    </tr>\n",
       "    <tr>\n",
       "      <th>3</th>\n",
       "      <td>Fastrack</td>\n",
       "      <td>₹639</td>\n",
       "      <td>UV Protection Rectangular Sunglasses (Free Size)</td>\n",
       "    </tr>\n",
       "    <tr>\n",
       "      <th>4</th>\n",
       "      <td>Elligator</td>\n",
       "      <td>₹315</td>\n",
       "      <td>UV Protection Round Sunglasses (54)</td>\n",
       "    </tr>\n",
       "    <tr>\n",
       "      <th>5</th>\n",
       "      <td>SUNBEE</td>\n",
       "      <td>₹259</td>\n",
       "      <td>UV Protection, Polarized, Mirrored Retro Squar...</td>\n",
       "    </tr>\n",
       "    <tr>\n",
       "      <th>6</th>\n",
       "      <td>SUNBEE</td>\n",
       "      <td>₹283</td>\n",
       "      <td>UV Protection, Polarized Wayfarer Sunglasses (...</td>\n",
       "    </tr>\n",
       "    <tr>\n",
       "      <th>7</th>\n",
       "      <td>GANSTA</td>\n",
       "      <td>₹242</td>\n",
       "      <td>UV Protection, Gradient Aviator Sunglasses (57)</td>\n",
       "    </tr>\n",
       "    <tr>\n",
       "      <th>8</th>\n",
       "      <td>PIRASO</td>\n",
       "      <td>₹224</td>\n",
       "      <td>UV Protection Aviator Sunglasses (54)</td>\n",
       "    </tr>\n",
       "    <tr>\n",
       "      <th>9</th>\n",
       "      <td>SRPM</td>\n",
       "      <td>₹224</td>\n",
       "      <td>UV Protection Wayfarer Sunglasses (50)</td>\n",
       "    </tr>\n",
       "    <tr>\n",
       "      <th>10</th>\n",
       "      <td>SHAAH COLLECTIONS</td>\n",
       "      <td>₹195</td>\n",
       "      <td>UV Protection, Polarized, Mirrored Rectangular...</td>\n",
       "    </tr>\n",
       "    <tr>\n",
       "      <th>11</th>\n",
       "      <td>ROYAL SON</td>\n",
       "      <td>₹759</td>\n",
       "      <td>Polarized, UV Protection Aviator Sunglasses (57)</td>\n",
       "    </tr>\n",
       "    <tr>\n",
       "      <th>12</th>\n",
       "      <td>Fastrack</td>\n",
       "      <td>₹799</td>\n",
       "      <td>UV Protection Wayfarer Sunglasses (Free Size)</td>\n",
       "    </tr>\n",
       "    <tr>\n",
       "      <th>13</th>\n",
       "      <td>PIRASO</td>\n",
       "      <td>₹224</td>\n",
       "      <td>UV Protection Aviator Sunglasses (54)</td>\n",
       "    </tr>\n",
       "    <tr>\n",
       "      <th>14</th>\n",
       "      <td>Fastrack</td>\n",
       "      <td>₹639</td>\n",
       "      <td>UV Protection Aviator Sunglasses (Free Size)</td>\n",
       "    </tr>\n",
       "    <tr>\n",
       "      <th>15</th>\n",
       "      <td>ROZZETTA CRAFT</td>\n",
       "      <td>₹379</td>\n",
       "      <td>UV Protection Spectacle Sunglasses (Free Size)</td>\n",
       "    </tr>\n",
       "    <tr>\n",
       "      <th>16</th>\n",
       "      <td>PIRASO</td>\n",
       "      <td>₹359</td>\n",
       "      <td>UV Protection Aviator Sunglasses (58)</td>\n",
       "    </tr>\n",
       "    <tr>\n",
       "      <th>17</th>\n",
       "      <td>Lee Topper</td>\n",
       "      <td>₹299</td>\n",
       "      <td>Riding Glasses Wrap-around Sunglasses (Free Size)</td>\n",
       "    </tr>\n",
       "    <tr>\n",
       "      <th>18</th>\n",
       "      <td>Lee Topper</td>\n",
       "      <td>₹229</td>\n",
       "      <td>UV Protection Cat-eye Sunglasses (Free Size)</td>\n",
       "    </tr>\n",
       "    <tr>\n",
       "      <th>19</th>\n",
       "      <td>elegante</td>\n",
       "      <td>₹499</td>\n",
       "      <td>Polarized, Riding Glasses, Night Vision Sports...</td>\n",
       "    </tr>\n",
       "    <tr>\n",
       "      <th>20</th>\n",
       "      <td>ROZZETTA CRAFT</td>\n",
       "      <td>₹474</td>\n",
       "      <td>Polarized, Riding Glasses Sports, Wrap-around ...</td>\n",
       "    </tr>\n",
       "    <tr>\n",
       "      <th>21</th>\n",
       "      <td>PIRASO</td>\n",
       "      <td>₹306</td>\n",
       "      <td>UV Protection Rectangular Sunglasses (52)</td>\n",
       "    </tr>\n",
       "    <tr>\n",
       "      <th>22</th>\n",
       "      <td>PIRASO</td>\n",
       "      <td>₹226</td>\n",
       "      <td>UV Protection Wayfarer Sunglasses (32)</td>\n",
       "    </tr>\n",
       "    <tr>\n",
       "      <th>23</th>\n",
       "      <td>ROYAL SON</td>\n",
       "      <td>₹616</td>\n",
       "      <td>Polarized, UV Protection Retro Square Sunglass...</td>\n",
       "    </tr>\n",
       "    <tr>\n",
       "      <th>24</th>\n",
       "      <td>PIRASO</td>\n",
       "      <td>₹246</td>\n",
       "      <td>UV Protection Aviator Sunglasses (54)</td>\n",
       "    </tr>\n",
       "    <tr>\n",
       "      <th>25</th>\n",
       "      <td>ROZZETTA CRAFT</td>\n",
       "      <td>₹303</td>\n",
       "      <td>UV Protection Rectangular Sunglasses (Free Size)</td>\n",
       "    </tr>\n",
       "    <tr>\n",
       "      <th>26</th>\n",
       "      <td>Fastrack</td>\n",
       "      <td>₹719</td>\n",
       "      <td>Gradient, UV Protection Wayfarer Sunglasses (F...</td>\n",
       "    </tr>\n",
       "    <tr>\n",
       "      <th>27</th>\n",
       "      <td>ROYAL SON</td>\n",
       "      <td>₹664</td>\n",
       "      <td>Polarized, UV Protection Wayfarer, Retro Squar...</td>\n",
       "    </tr>\n",
       "    <tr>\n",
       "      <th>28</th>\n",
       "      <td>PIRASO</td>\n",
       "      <td>₹359</td>\n",
       "      <td>UV Protection Over-sized Sunglasses (65)</td>\n",
       "    </tr>\n",
       "    <tr>\n",
       "      <th>29</th>\n",
       "      <td>NuVew</td>\n",
       "      <td>₹291</td>\n",
       "      <td>UV Protection Sports Sunglasses (62)</td>\n",
       "    </tr>\n",
       "    <tr>\n",
       "      <th>30</th>\n",
       "      <td>SHAAH COLLECTIONS</td>\n",
       "      <td>₹279</td>\n",
       "      <td>UV Protection Round Sunglasses (Free Size)</td>\n",
       "    </tr>\n",
       "    <tr>\n",
       "      <th>31</th>\n",
       "      <td>elegante</td>\n",
       "      <td>₹499</td>\n",
       "      <td>Polarized, Riding Glasses, Night Vision Sports...</td>\n",
       "    </tr>\n",
       "    <tr>\n",
       "      <th>32</th>\n",
       "      <td>Sewell</td>\n",
       "      <td>₹279</td>\n",
       "      <td>Mirrored, Night Vision, UV Protection, Riding ...</td>\n",
       "    </tr>\n",
       "    <tr>\n",
       "      <th>33</th>\n",
       "      <td>ROZZETTA CRAFT</td>\n",
       "      <td>₹331</td>\n",
       "      <td>UV Protection, Gradient Retro Square Sunglasse...</td>\n",
       "    </tr>\n",
       "    <tr>\n",
       "      <th>34</th>\n",
       "      <td>Mi</td>\n",
       "      <td>₹839</td>\n",
       "      <td>Polarized Aviator Sunglasses (Free Size)</td>\n",
       "    </tr>\n",
       "    <tr>\n",
       "      <th>35</th>\n",
       "      <td>VINCENT CHASE</td>\n",
       "      <td>₹749</td>\n",
       "      <td>by Lenskart UV Protection Wayfarer Sunglasses ...</td>\n",
       "    </tr>\n",
       "    <tr>\n",
       "      <th>36</th>\n",
       "      <td>SRPM</td>\n",
       "      <td>₹219</td>\n",
       "      <td>Others Wayfarer, Retro Square Sunglasses (50)</td>\n",
       "    </tr>\n",
       "    <tr>\n",
       "      <th>37</th>\n",
       "      <td>SUNBEE</td>\n",
       "      <td>₹283</td>\n",
       "      <td>UV Protection, Polarized, Mirrored Wayfarer Su...</td>\n",
       "    </tr>\n",
       "    <tr>\n",
       "      <th>38</th>\n",
       "      <td>Fastrack</td>\n",
       "      <td>₹1,039</td>\n",
       "      <td>UV Protection Aviator Sunglasses (58)</td>\n",
       "    </tr>\n",
       "    <tr>\n",
       "      <th>39</th>\n",
       "      <td>GANSTA</td>\n",
       "      <td>₹314</td>\n",
       "      <td>UV Protection Aviator Sunglasses (57)</td>\n",
       "    </tr>\n",
       "  </tbody>\n",
       "</table>\n",
       "</div>"
      ],
      "text/plain": [
       "           Brand_name P_price  \\\n",
       "0       VINCENT CHASE    ₹799   \n",
       "1       VINCENT CHASE    ₹949   \n",
       "2            DAHAAZIL    ₹177   \n",
       "3            Fastrack    ₹639   \n",
       "4           Elligator    ₹315   \n",
       "5              SUNBEE    ₹259   \n",
       "6              SUNBEE    ₹283   \n",
       "7              GANSTA    ₹242   \n",
       "8              PIRASO    ₹224   \n",
       "9                SRPM    ₹224   \n",
       "10  SHAAH COLLECTIONS    ₹195   \n",
       "11          ROYAL SON    ₹759   \n",
       "12           Fastrack    ₹799   \n",
       "13             PIRASO    ₹224   \n",
       "14           Fastrack    ₹639   \n",
       "15     ROZZETTA CRAFT    ₹379   \n",
       "16             PIRASO    ₹359   \n",
       "17         Lee Topper    ₹299   \n",
       "18         Lee Topper    ₹229   \n",
       "19           elegante    ₹499   \n",
       "20     ROZZETTA CRAFT    ₹474   \n",
       "21             PIRASO    ₹306   \n",
       "22             PIRASO    ₹226   \n",
       "23          ROYAL SON    ₹616   \n",
       "24             PIRASO    ₹246   \n",
       "25     ROZZETTA CRAFT    ₹303   \n",
       "26           Fastrack    ₹719   \n",
       "27          ROYAL SON    ₹664   \n",
       "28             PIRASO    ₹359   \n",
       "29              NuVew    ₹291   \n",
       "30  SHAAH COLLECTIONS    ₹279   \n",
       "31           elegante    ₹499   \n",
       "32             Sewell    ₹279   \n",
       "33     ROZZETTA CRAFT    ₹331   \n",
       "34                 Mi    ₹839   \n",
       "35      VINCENT CHASE    ₹749   \n",
       "36               SRPM    ₹219   \n",
       "37             SUNBEE    ₹283   \n",
       "38           Fastrack  ₹1,039   \n",
       "39             GANSTA    ₹314   \n",
       "\n",
       "                                              Pr_desc  \n",
       "0   by Lenskart Polarized, UV Protection Cat-eye S...  \n",
       "1   by Lenskart Polarized, UV Protection Round Sun...  \n",
       "2   UV Protection, Night Vision, Riding Glasses Wa...  \n",
       "3    UV Protection Rectangular Sunglasses (Free Size)  \n",
       "4                 UV Protection Round Sunglasses (54)  \n",
       "5   UV Protection, Polarized, Mirrored Retro Squar...  \n",
       "6   UV Protection, Polarized Wayfarer Sunglasses (...  \n",
       "7     UV Protection, Gradient Aviator Sunglasses (57)  \n",
       "8               UV Protection Aviator Sunglasses (54)  \n",
       "9              UV Protection Wayfarer Sunglasses (50)  \n",
       "10  UV Protection, Polarized, Mirrored Rectangular...  \n",
       "11   Polarized, UV Protection Aviator Sunglasses (57)  \n",
       "12      UV Protection Wayfarer Sunglasses (Free Size)  \n",
       "13              UV Protection Aviator Sunglasses (54)  \n",
       "14       UV Protection Aviator Sunglasses (Free Size)  \n",
       "15     UV Protection Spectacle Sunglasses (Free Size)  \n",
       "16              UV Protection Aviator Sunglasses (58)  \n",
       "17  Riding Glasses Wrap-around Sunglasses (Free Size)  \n",
       "18       UV Protection Cat-eye Sunglasses (Free Size)  \n",
       "19  Polarized, Riding Glasses, Night Vision Sports...  \n",
       "20  Polarized, Riding Glasses Sports, Wrap-around ...  \n",
       "21          UV Protection Rectangular Sunglasses (52)  \n",
       "22             UV Protection Wayfarer Sunglasses (32)  \n",
       "23  Polarized, UV Protection Retro Square Sunglass...  \n",
       "24              UV Protection Aviator Sunglasses (54)  \n",
       "25   UV Protection Rectangular Sunglasses (Free Size)  \n",
       "26  Gradient, UV Protection Wayfarer Sunglasses (F...  \n",
       "27  Polarized, UV Protection Wayfarer, Retro Squar...  \n",
       "28           UV Protection Over-sized Sunglasses (65)  \n",
       "29               UV Protection Sports Sunglasses (62)  \n",
       "30         UV Protection Round Sunglasses (Free Size)  \n",
       "31  Polarized, Riding Glasses, Night Vision Sports...  \n",
       "32  Mirrored, Night Vision, UV Protection, Riding ...  \n",
       "33  UV Protection, Gradient Retro Square Sunglasse...  \n",
       "34           Polarized Aviator Sunglasses (Free Size)  \n",
       "35  by Lenskart UV Protection Wayfarer Sunglasses ...  \n",
       "36      Others Wayfarer, Retro Square Sunglasses (50)  \n",
       "37  UV Protection, Polarized, Mirrored Wayfarer Su...  \n",
       "38              UV Protection Aviator Sunglasses (58)  \n",
       "39              UV Protection Aviator Sunglasses (57)  "
      ]
     },
     "execution_count": 74,
     "metadata": {},
     "output_type": "execute_result"
    }
   ],
   "source": [
    "sun_gl"
   ]
  },
  {
   "cell_type": "code",
   "execution_count": 75,
   "id": "d7fd836c",
   "metadata": {},
   "outputs": [],
   "source": [
    "for i in range(3):\n",
    "    b_name=driver.find_elements(By.XPATH,\"//div[@class='_2WkVRV']\")\n",
    "    p_desc=driver.find_elements(By.XPATH,\"//a[@class='IRpwTa']\")\n",
    "    price =driver.find_elements(By.XPATH,\"//div[@class='_30jeq3']\")\n",
    "    \n",
    "    for j  in b_name:\n",
    "        B_name.append(j.text)\n",
    "    B_name[:100]\n",
    "        \n",
    "    for k in p_desc:\n",
    "        P_desc.append(k.text)\n",
    "    P_desc[:100]\n",
    "        \n",
    "    for l in price:\n",
    "        Price.append(l.text)\n",
    "    Price[:100]"
   ]
  },
  {
   "cell_type": "code",
   "execution_count": 76,
   "id": "2513cdce",
   "metadata": {},
   "outputs": [
    {
     "data": {
      "text/plain": [
       "['VINCENT CHASE',\n",
       " 'VINCENT CHASE',\n",
       " 'DAHAAZIL',\n",
       " 'Fastrack',\n",
       " 'Elligator',\n",
       " 'SUNBEE',\n",
       " 'SUNBEE',\n",
       " 'GANSTA',\n",
       " 'PIRASO',\n",
       " 'SRPM',\n",
       " 'SHAAH COLLECTIONS',\n",
       " 'ROYAL SON',\n",
       " 'Fastrack',\n",
       " 'PIRASO',\n",
       " 'Fastrack',\n",
       " 'ROZZETTA CRAFT',\n",
       " 'PIRASO',\n",
       " 'Lee Topper',\n",
       " 'Lee Topper',\n",
       " 'elegante',\n",
       " 'ROZZETTA CRAFT',\n",
       " 'PIRASO',\n",
       " 'PIRASO',\n",
       " 'ROYAL SON',\n",
       " 'PIRASO',\n",
       " 'ROZZETTA CRAFT',\n",
       " 'Fastrack',\n",
       " 'ROYAL SON',\n",
       " 'PIRASO',\n",
       " 'NuVew',\n",
       " 'SHAAH COLLECTIONS',\n",
       " 'elegante',\n",
       " 'Sewell',\n",
       " 'ROZZETTA CRAFT',\n",
       " 'Mi',\n",
       " 'VINCENT CHASE',\n",
       " 'SRPM',\n",
       " 'SUNBEE',\n",
       " 'Fastrack',\n",
       " 'GANSTA',\n",
       " 'VINCENT CHASE',\n",
       " 'VINCENT CHASE',\n",
       " 'DAHAAZIL',\n",
       " 'Fastrack',\n",
       " 'Elligator',\n",
       " 'SUNBEE',\n",
       " 'SUNBEE',\n",
       " 'GANSTA',\n",
       " 'PIRASO',\n",
       " 'SRPM',\n",
       " 'SHAAH COLLECTIONS',\n",
       " 'ROYAL SON',\n",
       " 'Fastrack',\n",
       " 'PIRASO',\n",
       " 'Fastrack',\n",
       " 'ROZZETTA CRAFT',\n",
       " 'PIRASO',\n",
       " 'Lee Topper',\n",
       " 'Lee Topper',\n",
       " 'elegante',\n",
       " 'ROZZETTA CRAFT',\n",
       " 'PIRASO',\n",
       " 'PIRASO',\n",
       " 'ROYAL SON',\n",
       " 'PIRASO',\n",
       " 'ROZZETTA CRAFT',\n",
       " 'Fastrack',\n",
       " 'ROYAL SON',\n",
       " 'PIRASO',\n",
       " 'NuVew',\n",
       " 'SHAAH COLLECTIONS',\n",
       " 'elegante',\n",
       " 'Sewell',\n",
       " 'ROZZETTA CRAFT',\n",
       " 'Mi',\n",
       " 'VINCENT CHASE',\n",
       " 'SRPM',\n",
       " 'SUNBEE',\n",
       " 'Fastrack',\n",
       " 'GANSTA',\n",
       " 'VINCENT CHASE',\n",
       " 'VINCENT CHASE',\n",
       " 'DAHAAZIL',\n",
       " 'Fastrack',\n",
       " 'Elligator',\n",
       " 'SUNBEE',\n",
       " 'SUNBEE',\n",
       " 'GANSTA',\n",
       " 'PIRASO',\n",
       " 'SRPM',\n",
       " 'SHAAH COLLECTIONS',\n",
       " 'ROYAL SON',\n",
       " 'Fastrack',\n",
       " 'PIRASO',\n",
       " 'Fastrack',\n",
       " 'ROZZETTA CRAFT',\n",
       " 'PIRASO',\n",
       " 'Lee Topper',\n",
       " 'Lee Topper',\n",
       " 'elegante']"
      ]
     },
     "execution_count": 76,
     "metadata": {},
     "output_type": "execute_result"
    }
   ],
   "source": [
    "B_name[:100]"
   ]
  },
  {
   "cell_type": "code",
   "execution_count": 79,
   "id": "3109aab8",
   "metadata": {},
   "outputs": [
    {
     "data": {
      "text/plain": [
       "['by Lenskart Polarized, UV Protection Cat-eye Sunglasses...',\n",
       " 'by Lenskart Polarized, UV Protection Round Sunglasses (...',\n",
       " 'UV Protection, Night Vision, Riding Glasses Wayfarer, W...',\n",
       " 'UV Protection Rectangular Sunglasses (Free Size)',\n",
       " 'UV Protection Round Sunglasses (54)',\n",
       " 'UV Protection, Polarized, Mirrored Retro Square Sunglas...',\n",
       " 'UV Protection, Polarized Wayfarer Sunglasses (Free Size...',\n",
       " 'UV Protection, Gradient Aviator Sunglasses (57)',\n",
       " 'UV Protection Aviator Sunglasses (54)',\n",
       " 'UV Protection Wayfarer Sunglasses (50)',\n",
       " 'UV Protection, Polarized, Mirrored Rectangular Sunglass...',\n",
       " 'Polarized, UV Protection Aviator Sunglasses (57)',\n",
       " 'UV Protection Wayfarer Sunglasses (Free Size)',\n",
       " 'UV Protection Aviator Sunglasses (54)',\n",
       " 'UV Protection Aviator Sunglasses (Free Size)',\n",
       " 'UV Protection Spectacle Sunglasses (Free Size)',\n",
       " 'UV Protection Aviator Sunglasses (58)',\n",
       " 'Riding Glasses Wrap-around Sunglasses (Free Size)',\n",
       " 'UV Protection Cat-eye Sunglasses (Free Size)',\n",
       " 'Polarized, Riding Glasses, Night Vision Sports Sunglass...',\n",
       " 'Polarized, Riding Glasses Sports, Wrap-around Sunglasse...',\n",
       " 'UV Protection Rectangular Sunglasses (52)',\n",
       " 'UV Protection Wayfarer Sunglasses (32)',\n",
       " 'Polarized, UV Protection Retro Square Sunglasses (55)',\n",
       " 'UV Protection Aviator Sunglasses (54)',\n",
       " 'UV Protection Rectangular Sunglasses (Free Size)',\n",
       " 'Gradient, UV Protection Wayfarer Sunglasses (Free Size)',\n",
       " 'Polarized, UV Protection Wayfarer, Retro Square Sunglas...',\n",
       " 'UV Protection Over-sized Sunglasses (65)',\n",
       " 'UV Protection Sports Sunglasses (62)',\n",
       " 'UV Protection Round Sunglasses (Free Size)',\n",
       " 'Polarized, Riding Glasses, Night Vision Sports Sunglass...',\n",
       " 'Mirrored, Night Vision, UV Protection, Riding Glasses S...',\n",
       " 'UV Protection, Gradient Retro Square Sunglasses (Free S...',\n",
       " 'Polarized Aviator Sunglasses (Free Size)',\n",
       " 'by Lenskart UV Protection Wayfarer Sunglasses (51)',\n",
       " 'Others Wayfarer, Retro Square Sunglasses (50)',\n",
       " 'UV Protection, Polarized, Mirrored Wayfarer Sunglasses ...',\n",
       " 'UV Protection Aviator Sunglasses (58)',\n",
       " 'UV Protection Aviator Sunglasses (57)',\n",
       " 'by Lenskart Polarized, UV Protection Cat-eye Sunglasses...',\n",
       " 'by Lenskart Polarized, UV Protection Round Sunglasses (...',\n",
       " 'UV Protection, Night Vision, Riding Glasses Wayfarer, W...',\n",
       " 'UV Protection Rectangular Sunglasses (Free Size)',\n",
       " 'UV Protection Round Sunglasses (54)',\n",
       " 'UV Protection, Polarized, Mirrored Retro Square Sunglas...',\n",
       " 'UV Protection, Polarized Wayfarer Sunglasses (Free Size...',\n",
       " 'UV Protection, Gradient Aviator Sunglasses (57)',\n",
       " 'UV Protection Aviator Sunglasses (54)',\n",
       " 'UV Protection Wayfarer Sunglasses (50)',\n",
       " 'UV Protection, Polarized, Mirrored Rectangular Sunglass...',\n",
       " 'Polarized, UV Protection Aviator Sunglasses (57)',\n",
       " 'UV Protection Wayfarer Sunglasses (Free Size)',\n",
       " 'UV Protection Aviator Sunglasses (54)',\n",
       " 'UV Protection Aviator Sunglasses (Free Size)',\n",
       " 'UV Protection Spectacle Sunglasses (Free Size)',\n",
       " 'UV Protection Aviator Sunglasses (58)',\n",
       " 'Riding Glasses Wrap-around Sunglasses (Free Size)',\n",
       " 'UV Protection Cat-eye Sunglasses (Free Size)',\n",
       " 'Polarized, Riding Glasses, Night Vision Sports Sunglass...',\n",
       " 'Polarized, Riding Glasses Sports, Wrap-around Sunglasse...',\n",
       " 'UV Protection Rectangular Sunglasses (52)',\n",
       " 'UV Protection Wayfarer Sunglasses (32)',\n",
       " 'Polarized, UV Protection Retro Square Sunglasses (55)',\n",
       " 'UV Protection Aviator Sunglasses (54)',\n",
       " 'UV Protection Rectangular Sunglasses (Free Size)',\n",
       " 'Gradient, UV Protection Wayfarer Sunglasses (Free Size)',\n",
       " 'Polarized, UV Protection Wayfarer, Retro Square Sunglas...',\n",
       " 'UV Protection Over-sized Sunglasses (65)',\n",
       " 'UV Protection Sports Sunglasses (62)',\n",
       " 'UV Protection Round Sunglasses (Free Size)',\n",
       " 'Polarized, Riding Glasses, Night Vision Sports Sunglass...',\n",
       " 'Mirrored, Night Vision, UV Protection, Riding Glasses S...',\n",
       " 'UV Protection, Gradient Retro Square Sunglasses (Free S...',\n",
       " 'Polarized Aviator Sunglasses (Free Size)',\n",
       " 'by Lenskart UV Protection Wayfarer Sunglasses (51)',\n",
       " 'Others Wayfarer, Retro Square Sunglasses (50)',\n",
       " 'UV Protection, Polarized, Mirrored Wayfarer Sunglasses ...',\n",
       " 'UV Protection Aviator Sunglasses (58)',\n",
       " 'UV Protection Aviator Sunglasses (57)',\n",
       " 'by Lenskart Polarized, UV Protection Cat-eye Sunglasses...',\n",
       " 'by Lenskart Polarized, UV Protection Round Sunglasses (...',\n",
       " 'UV Protection, Night Vision, Riding Glasses Wayfarer, W...',\n",
       " 'UV Protection Rectangular Sunglasses (Free Size)',\n",
       " 'UV Protection Round Sunglasses (54)',\n",
       " 'UV Protection, Polarized, Mirrored Retro Square Sunglas...',\n",
       " 'UV Protection, Polarized Wayfarer Sunglasses (Free Size...',\n",
       " 'UV Protection, Gradient Aviator Sunglasses (57)',\n",
       " 'UV Protection Aviator Sunglasses (54)',\n",
       " 'UV Protection Wayfarer Sunglasses (50)',\n",
       " 'UV Protection, Polarized, Mirrored Rectangular Sunglass...',\n",
       " 'Polarized, UV Protection Aviator Sunglasses (57)',\n",
       " 'UV Protection Wayfarer Sunglasses (Free Size)',\n",
       " 'UV Protection Aviator Sunglasses (54)',\n",
       " 'UV Protection Aviator Sunglasses (Free Size)',\n",
       " 'UV Protection Spectacle Sunglasses (Free Size)',\n",
       " 'UV Protection Aviator Sunglasses (58)',\n",
       " 'Riding Glasses Wrap-around Sunglasses (Free Size)',\n",
       " 'UV Protection Cat-eye Sunglasses (Free Size)',\n",
       " 'Polarized, Riding Glasses, Night Vision Sports Sunglass...']"
      ]
     },
     "execution_count": 79,
     "metadata": {},
     "output_type": "execute_result"
    }
   ],
   "source": [
    "P_desc[:100]"
   ]
  },
  {
   "cell_type": "code",
   "execution_count": 80,
   "id": "69a738c1",
   "metadata": {},
   "outputs": [
    {
     "data": {
      "text/plain": [
       "['₹799',\n",
       " '₹949',\n",
       " '₹177',\n",
       " '₹639',\n",
       " '₹315',\n",
       " '₹259',\n",
       " '₹283',\n",
       " '₹242',\n",
       " '₹224',\n",
       " '₹224',\n",
       " '₹195',\n",
       " '₹759',\n",
       " '₹799',\n",
       " '₹224',\n",
       " '₹639',\n",
       " '₹379',\n",
       " '₹359',\n",
       " '₹299',\n",
       " '₹229',\n",
       " '₹499',\n",
       " '₹474',\n",
       " '₹306',\n",
       " '₹226',\n",
       " '₹616',\n",
       " '₹246',\n",
       " '₹303',\n",
       " '₹719',\n",
       " '₹664',\n",
       " '₹359',\n",
       " '₹291',\n",
       " '₹279',\n",
       " '₹499',\n",
       " '₹279',\n",
       " '₹331',\n",
       " '₹839',\n",
       " '₹749',\n",
       " '₹219',\n",
       " '₹283',\n",
       " '₹1,039',\n",
       " '₹314',\n",
       " '₹799',\n",
       " '₹949',\n",
       " '₹177',\n",
       " '₹639',\n",
       " '₹315',\n",
       " '₹259',\n",
       " '₹283',\n",
       " '₹242',\n",
       " '₹224',\n",
       " '₹224',\n",
       " '₹195',\n",
       " '₹759',\n",
       " '₹799',\n",
       " '₹224',\n",
       " '₹639',\n",
       " '₹379',\n",
       " '₹359',\n",
       " '₹299',\n",
       " '₹229',\n",
       " '₹499',\n",
       " '₹474',\n",
       " '₹306',\n",
       " '₹226',\n",
       " '₹616',\n",
       " '₹246',\n",
       " '₹303',\n",
       " '₹719',\n",
       " '₹664',\n",
       " '₹359',\n",
       " '₹291',\n",
       " '₹279',\n",
       " '₹499',\n",
       " '₹279',\n",
       " '₹331',\n",
       " '₹839',\n",
       " '₹749',\n",
       " '₹219',\n",
       " '₹283',\n",
       " '₹1,039',\n",
       " '₹314',\n",
       " '₹799',\n",
       " '₹949',\n",
       " '₹177',\n",
       " '₹639',\n",
       " '₹315',\n",
       " '₹259',\n",
       " '₹283',\n",
       " '₹242',\n",
       " '₹224',\n",
       " '₹224',\n",
       " '₹195',\n",
       " '₹759',\n",
       " '₹799',\n",
       " '₹224',\n",
       " '₹639',\n",
       " '₹379',\n",
       " '₹359',\n",
       " '₹299',\n",
       " '₹229',\n",
       " '₹499']"
      ]
     },
     "execution_count": 80,
     "metadata": {},
     "output_type": "execute_result"
    }
   ],
   "source": [
    "Price[:100]"
   ]
  },
  {
   "cell_type": "code",
   "execution_count": 81,
   "id": "621901c2",
   "metadata": {},
   "outputs": [],
   "source": [
    "sun_gl=pd.DataFrame({})\n",
    "sun_gl['Brand_name']=B_name[:100]\n",
    "sun_gl['P_price']=Price[:100]\n",
    "sun_gl['Pr_desc']=P_desc[:100]"
   ]
  },
  {
   "cell_type": "code",
   "execution_count": 82,
   "id": "0dd5b5ab",
   "metadata": {},
   "outputs": [
    {
     "data": {
      "text/html": [
       "<div>\n",
       "<style scoped>\n",
       "    .dataframe tbody tr th:only-of-type {\n",
       "        vertical-align: middle;\n",
       "    }\n",
       "\n",
       "    .dataframe tbody tr th {\n",
       "        vertical-align: top;\n",
       "    }\n",
       "\n",
       "    .dataframe thead th {\n",
       "        text-align: right;\n",
       "    }\n",
       "</style>\n",
       "<table border=\"1\" class=\"dataframe\">\n",
       "  <thead>\n",
       "    <tr style=\"text-align: right;\">\n",
       "      <th></th>\n",
       "      <th>Brand_name</th>\n",
       "      <th>P_price</th>\n",
       "      <th>Pr_desc</th>\n",
       "    </tr>\n",
       "  </thead>\n",
       "  <tbody>\n",
       "    <tr>\n",
       "      <th>0</th>\n",
       "      <td>VINCENT CHASE</td>\n",
       "      <td>₹799</td>\n",
       "      <td>by Lenskart Polarized, UV Protection Cat-eye S...</td>\n",
       "    </tr>\n",
       "    <tr>\n",
       "      <th>1</th>\n",
       "      <td>VINCENT CHASE</td>\n",
       "      <td>₹949</td>\n",
       "      <td>by Lenskart Polarized, UV Protection Round Sun...</td>\n",
       "    </tr>\n",
       "    <tr>\n",
       "      <th>2</th>\n",
       "      <td>DAHAAZIL</td>\n",
       "      <td>₹177</td>\n",
       "      <td>UV Protection, Night Vision, Riding Glasses Wa...</td>\n",
       "    </tr>\n",
       "    <tr>\n",
       "      <th>3</th>\n",
       "      <td>Fastrack</td>\n",
       "      <td>₹639</td>\n",
       "      <td>UV Protection Rectangular Sunglasses (Free Size)</td>\n",
       "    </tr>\n",
       "    <tr>\n",
       "      <th>4</th>\n",
       "      <td>Elligator</td>\n",
       "      <td>₹315</td>\n",
       "      <td>UV Protection Round Sunglasses (54)</td>\n",
       "    </tr>\n",
       "    <tr>\n",
       "      <th>...</th>\n",
       "      <td>...</td>\n",
       "      <td>...</td>\n",
       "      <td>...</td>\n",
       "    </tr>\n",
       "    <tr>\n",
       "      <th>95</th>\n",
       "      <td>ROZZETTA CRAFT</td>\n",
       "      <td>₹379</td>\n",
       "      <td>UV Protection Spectacle Sunglasses (Free Size)</td>\n",
       "    </tr>\n",
       "    <tr>\n",
       "      <th>96</th>\n",
       "      <td>PIRASO</td>\n",
       "      <td>₹359</td>\n",
       "      <td>UV Protection Aviator Sunglasses (58)</td>\n",
       "    </tr>\n",
       "    <tr>\n",
       "      <th>97</th>\n",
       "      <td>Lee Topper</td>\n",
       "      <td>₹299</td>\n",
       "      <td>Riding Glasses Wrap-around Sunglasses (Free Size)</td>\n",
       "    </tr>\n",
       "    <tr>\n",
       "      <th>98</th>\n",
       "      <td>Lee Topper</td>\n",
       "      <td>₹229</td>\n",
       "      <td>UV Protection Cat-eye Sunglasses (Free Size)</td>\n",
       "    </tr>\n",
       "    <tr>\n",
       "      <th>99</th>\n",
       "      <td>elegante</td>\n",
       "      <td>₹499</td>\n",
       "      <td>Polarized, Riding Glasses, Night Vision Sports...</td>\n",
       "    </tr>\n",
       "  </tbody>\n",
       "</table>\n",
       "<p>100 rows × 3 columns</p>\n",
       "</div>"
      ],
      "text/plain": [
       "        Brand_name P_price                                            Pr_desc\n",
       "0    VINCENT CHASE    ₹799  by Lenskart Polarized, UV Protection Cat-eye S...\n",
       "1    VINCENT CHASE    ₹949  by Lenskart Polarized, UV Protection Round Sun...\n",
       "2         DAHAAZIL    ₹177  UV Protection, Night Vision, Riding Glasses Wa...\n",
       "3         Fastrack    ₹639   UV Protection Rectangular Sunglasses (Free Size)\n",
       "4        Elligator    ₹315                UV Protection Round Sunglasses (54)\n",
       "..             ...     ...                                                ...\n",
       "95  ROZZETTA CRAFT    ₹379     UV Protection Spectacle Sunglasses (Free Size)\n",
       "96          PIRASO    ₹359              UV Protection Aviator Sunglasses (58)\n",
       "97      Lee Topper    ₹299  Riding Glasses Wrap-around Sunglasses (Free Size)\n",
       "98      Lee Topper    ₹229       UV Protection Cat-eye Sunglasses (Free Size)\n",
       "99        elegante    ₹499  Polarized, Riding Glasses, Night Vision Sports...\n",
       "\n",
       "[100 rows x 3 columns]"
      ]
     },
     "execution_count": 82,
     "metadata": {},
     "output_type": "execute_result"
    }
   ],
   "source": [
    "sun_gl"
   ]
  },
  {
   "cell_type": "markdown",
   "id": "c54bcd6f",
   "metadata": {},
   "source": [
    "# 5. Scrape 100 reviews data from flipkart.com for iphone11 phone."
   ]
  },
  {
   "cell_type": "code",
   "execution_count": 2,
   "id": "358f620d",
   "metadata": {},
   "outputs": [
    {
     "ename": "NameError",
     "evalue": "name 'driver' is not defined",
     "output_type": "error",
     "traceback": [
      "\u001b[1;31m---------------------------------------------------------------------------\u001b[0m",
      "\u001b[1;31mNameError\u001b[0m                                 Traceback (most recent call last)",
      "\u001b[1;32m~\\AppData\\Local\\Temp/ipykernel_10620/2650610274.py\u001b[0m in \u001b[0;36m<module>\u001b[1;34m\u001b[0m\n\u001b[0;32m      1\u001b[0m \u001b[0murl7\u001b[0m \u001b[1;33m=\u001b[0m \u001b[1;34m'https://www.flipkart.com/apple-iphone-11-black-64-gb-includes%02earpods-power%02adapter/p/itm0f37c2240b217?pid=MOBFKCTSVZAXUHGR&lid=LSTMOBFKC%20TSVZAXUHGREPBFGI&marketplace'\u001b[0m\u001b[1;33m\u001b[0m\u001b[1;33m\u001b[0m\u001b[0m\n\u001b[0;32m      2\u001b[0m \u001b[1;33m\u001b[0m\u001b[0m\n\u001b[1;32m----> 3\u001b[1;33m \u001b[0mdriver\u001b[0m\u001b[1;33m.\u001b[0m\u001b[0mget\u001b[0m\u001b[1;33m(\u001b[0m\u001b[0murl7\u001b[0m\u001b[1;33m)\u001b[0m\u001b[1;33m\u001b[0m\u001b[1;33m\u001b[0m\u001b[0m\n\u001b[0m",
      "\u001b[1;31mNameError\u001b[0m: name 'driver' is not defined"
     ]
    }
   ],
   "source": [
    "url7 = 'https://www.flipkart.com/apple-iphone-11-black-64-gb-includes%02earpods-power%02adapter/p/itm0f37c2240b217?pid=MOBFKCTSVZAXUHGR&lid=LSTMOBFKC%20TSVZAXUHGREPBFGI&marketplace'\n",
    "\n",
    "driver.get(url7)"
   ]
  },
  {
   "cell_type": "code",
   "execution_count": null,
   "id": "a9007676",
   "metadata": {},
   "outputs": [],
   "source": []
  },
  {
   "cell_type": "code",
   "execution_count": null,
   "id": "12958f76",
   "metadata": {},
   "outputs": [],
   "source": []
  },
  {
   "cell_type": "code",
   "execution_count": null,
   "id": "e494082d",
   "metadata": {},
   "outputs": [],
   "source": []
  },
  {
   "cell_type": "code",
   "execution_count": 196,
   "id": "9ab5d6a3",
   "metadata": {},
   "outputs": [],
   "source": []
  },
  {
   "cell_type": "markdown",
   "id": "6aa0b923",
   "metadata": {},
   "source": [
    "# 6.Scrape data for first 100 sneakers you find when you visit flipkart.com and search for “sneakers” in the search field."
   ]
  },
  {
   "cell_type": "code",
   "execution_count": 43,
   "id": "d9bda391",
   "metadata": {},
   "outputs": [],
   "source": [
    "# import all the required libraries\n",
    "import selenium\n",
    "import pandas as pd\n",
    "from selenium import webdriver\n",
    "import warnings\n",
    "warnings.filterwarnings(\"ignore\")\n",
    "import time\n",
    "from selenium .webdriver.common.by import By"
   ]
  },
  {
   "cell_type": "code",
   "execution_count": 44,
   "id": "dc2614d5",
   "metadata": {},
   "outputs": [],
   "source": [
    "driver = webdriver.Chrome(r\"C:\\Users\\dell\\Downloads\\chromedriver_win32\\chromedriver.exe\")"
   ]
  },
  {
   "cell_type": "code",
   "execution_count": 45,
   "id": "c4bdeb5a",
   "metadata": {},
   "outputs": [],
   "source": [
    "driver=webdriver.Chrome(\"chromedriver.exe\")\n",
    "time.sleep(2)"
   ]
  },
  {
   "cell_type": "code",
   "execution_count": 46,
   "id": "9b557b0f",
   "metadata": {},
   "outputs": [],
   "source": [
    "driver.get('https://www.flipkart.com/')"
   ]
  },
  {
   "cell_type": "code",
   "execution_count": 47,
   "id": "bc48abb7",
   "metadata": {},
   "outputs": [
    {
     "data": {
      "text/plain": [
       "<selenium.webdriver.remote.webelement.WebElement (session=\"c899490d7e15632608c8382f7a852d7c\", element=\"3245d124-c455-4d1d-b7f9-c2e91e397ef9\")>"
      ]
     },
     "execution_count": 47,
     "metadata": {},
     "output_type": "execute_result"
    }
   ],
   "source": [
    "search_g= driver.find_element(By.XPATH,\"//input[@class='_3704LK']\") \n",
    "search_g"
   ]
  },
  {
   "cell_type": "code",
   "execution_count": 48,
   "id": "1aab64a6",
   "metadata": {},
   "outputs": [],
   "source": [
    "search_g.send_keys('sneakers')"
   ]
  },
  {
   "cell_type": "code",
   "execution_count": 49,
   "id": "83e58216",
   "metadata": {},
   "outputs": [],
   "source": [
    "search_button=driver.find_element(By.XPATH,\"//button[@class='L0Z3Pu']\")\n",
    "search_button.click()"
   ]
  },
  {
   "cell_type": "code",
   "execution_count": 50,
   "id": "c64fdf99",
   "metadata": {},
   "outputs": [],
   "source": [
    "B_name=[]\n",
    "Price=[]\n",
    "P_desc=[]\n",
    "Discount=[]"
   ]
  },
  {
   "cell_type": "code",
   "execution_count": 51,
   "id": "7cb0ca81",
   "metadata": {},
   "outputs": [],
   "source": [
    "for i in range(3):\n",
    "    b_name=driver.find_elements(By.XPATH,\"//div[@class='_2WkVRV']\")\n",
    "    p_desc=driver.find_elements(By.XPATH,\"//a[@class='IRpwTa']\")\n",
    "    price =driver.find_elements(By.XPATH,\"//div[@class='_30jeq3']\")\n",
    "    discount=driver.find_elements(By.XPATH,\"//div[@class='_3Ay6Sb']\")\n",
    "    \n",
    "    for j  in b_name:\n",
    "        B_name.append(j.text)\n",
    "    B_name[:100]    \n",
    "    \n",
    "    \n",
    "    \n",
    "    for k in p_desc:\n",
    "        P_desc.append(k.text)\n",
    "    P_desc[:100] \n",
    "    \n",
    "    \n",
    "    for l in price:\n",
    "        Price.append(l.text)\n",
    "    Price[:100] \n",
    "    \n",
    "    \n",
    "    for t in discount:\n",
    "        Discount.append(t.text)\n",
    "    Discount[:100]"
   ]
  },
  {
   "cell_type": "code",
   "execution_count": 52,
   "id": "31d8eee0",
   "metadata": {},
   "outputs": [
    {
     "data": {
      "text/plain": [
       "['Sumohan',\n",
       " 'ZF - ALFIYA',\n",
       " 'WOODLAND',\n",
       " 'BRUTON',\n",
       " 'SFR',\n",
       " 'BRUTON',\n",
       " 'Labbin',\n",
       " 'World Wear Footwear',\n",
       " 'URBANBOX',\n",
       " 'Magnolia',\n",
       " 'aadi',\n",
       " 'luxury fashion',\n",
       " 'BIRDE',\n",
       " 'PUMA',\n",
       " 'BIRDE',\n",
       " 'HOTSTYLE',\n",
       " 'ONECENTRE',\n",
       " 'PUMA',\n",
       " 'Chevit',\n",
       " 'kardam&sons',\n",
       " 'KWIK FIT',\n",
       " 'HOTSTYLE',\n",
       " 'corsac',\n",
       " 'Kirjak',\n",
       " 'ASTEROID',\n",
       " 'aadi',\n",
       " 'CLYMB',\n",
       " 'luxury fashion',\n",
       " 'BIRDE',\n",
       " 'BRUTON',\n",
       " 'Noztile',\n",
       " 'Nilatin',\n",
       " 'Kraasa',\n",
       " 'PUMA',\n",
       " 'SCATCHITE',\n",
       " 'HOTSTYLE',\n",
       " 'Dizzler',\n",
       " 'Kraasa',\n",
       " 'PEXLO',\n",
       " 'HOTSTYLE',\n",
       " 'Sumohan',\n",
       " 'ZF - ALFIYA',\n",
       " 'WOODLAND',\n",
       " 'BRUTON',\n",
       " 'SFR',\n",
       " 'BRUTON',\n",
       " 'Labbin',\n",
       " 'World Wear Footwear',\n",
       " 'URBANBOX',\n",
       " 'Magnolia',\n",
       " 'aadi',\n",
       " 'luxury fashion',\n",
       " 'BIRDE',\n",
       " 'PUMA',\n",
       " 'BIRDE',\n",
       " 'HOTSTYLE',\n",
       " 'ONECENTRE',\n",
       " 'PUMA',\n",
       " 'Chevit',\n",
       " 'kardam&sons',\n",
       " 'KWIK FIT',\n",
       " 'HOTSTYLE',\n",
       " 'corsac',\n",
       " 'Kirjak',\n",
       " 'ASTEROID',\n",
       " 'aadi',\n",
       " 'CLYMB',\n",
       " 'luxury fashion',\n",
       " 'BIRDE',\n",
       " 'BRUTON',\n",
       " 'Noztile',\n",
       " 'Nilatin',\n",
       " 'Kraasa',\n",
       " 'PUMA',\n",
       " 'SCATCHITE',\n",
       " 'HOTSTYLE',\n",
       " 'Dizzler',\n",
       " 'Kraasa',\n",
       " 'PEXLO',\n",
       " 'HOTSTYLE',\n",
       " 'Sumohan',\n",
       " 'ZF - ALFIYA',\n",
       " 'WOODLAND',\n",
       " 'BRUTON',\n",
       " 'SFR',\n",
       " 'BRUTON',\n",
       " 'Labbin',\n",
       " 'World Wear Footwear',\n",
       " 'URBANBOX',\n",
       " 'Magnolia',\n",
       " 'aadi',\n",
       " 'luxury fashion',\n",
       " 'BIRDE',\n",
       " 'PUMA',\n",
       " 'BIRDE',\n",
       " 'HOTSTYLE',\n",
       " 'ONECENTRE',\n",
       " 'PUMA',\n",
       " 'Chevit',\n",
       " 'kardam&sons']"
      ]
     },
     "execution_count": 52,
     "metadata": {},
     "output_type": "execute_result"
    }
   ],
   "source": [
    "B_name[:100]"
   ]
  },
  {
   "cell_type": "code",
   "execution_count": 53,
   "id": "0ced719d",
   "metadata": {},
   "outputs": [
    {
     "data": {
      "text/plain": [
       "['Sneakers For Men',\n",
       " 'Sneakers For Men',\n",
       " 'Modern Trendy Sneakers Shoes Sneakers For Men',\n",
       " 'Sneakers For Men',\n",
       " 'Modern Trendy Sneakers Shoes Sneakers For Men',\n",
       " 'Sneakers For Men',\n",
       " 'Sneakers For Men',\n",
       " 'Sneakers For Men',\n",
       " 'Luxury Fashionable casual sneaker shoes Sneakers For Me...',\n",
       " 'Stylish Comfortable Lightweight, Breathable Walking Sho...',\n",
       " 'Smash v2 L Sneakers For Men',\n",
       " 'Stylish Comfortable Lightweight, Breathable Walking Sho...',\n",
       " 'CR-1 Sneakers For Men',\n",
       " 'STR2 Sneakers For Men',\n",
       " 'Puma Smash v2 L Sneakers For Men',\n",
       " 'Super Stylish & Trendy Combo Pack of 02 Pairs Sneakers ...',\n",
       " 'Fashionable Canvas Casual Partywear Outdoor Sneakers Bl...',\n",
       " 'Kwik FIT casual sneaker shoes and partywear shoes Casua...',\n",
       " 'Sneakers For Men',\n",
       " 'STYLISH MENS BLACK SNEAKER Sneakers For Men',\n",
       " \"men's Skyblue sneakers lace-up trendy casual Sneakers F...\",\n",
       " \"Original Luxury Branded Fashionable Men's Casual Walkin...\",\n",
       " 'Sneakers For Men',\n",
       " 'Sneakers For Men',\n",
       " 'Luxury Fashionable casual shoes Sneakers For Men',\n",
       " 'Stylish Comfortable Lightweight, Breathable Casual Walk...',\n",
       " 'Sneaker Sneakers For Men',\n",
       " 'Sneakers For Men',\n",
       " 'Sneakers For Men',\n",
       " 'Casuals, Canvas, Partywear Sneakers For Men',\n",
       " 'Smash v2 L White- Black Sneakers For Men',\n",
       " 'Sneakers Sneakers For Men',\n",
       " 'Sneakers Sneakers For Men',\n",
       " 'Shark-41 Sneakers For Men',\n",
       " 'Combo Pack of 3 Casual Shoes Sneakers For Men',\n",
       " 'Mike Stylish & Trendy Sneakers For Men',\n",
       " 'Sneakers For Men',\n",
       " 'Sneakers For Men',\n",
       " 'Modern Trendy Sneakers Shoes Sneakers For Men',\n",
       " 'Sneakers For Men',\n",
       " 'Modern Trendy Sneakers Shoes Sneakers For Men',\n",
       " 'Sneakers For Men',\n",
       " 'Sneakers For Men',\n",
       " 'Sneakers For Men',\n",
       " 'Luxury Fashionable casual sneaker shoes Sneakers For Me...',\n",
       " 'Stylish Comfortable Lightweight, Breathable Walking Sho...',\n",
       " 'Smash v2 L Sneakers For Men',\n",
       " 'Stylish Comfortable Lightweight, Breathable Walking Sho...',\n",
       " 'CR-1 Sneakers For Men',\n",
       " 'STR2 Sneakers For Men',\n",
       " 'Puma Smash v2 L Sneakers For Men',\n",
       " 'Super Stylish & Trendy Combo Pack of 02 Pairs Sneakers ...',\n",
       " 'Fashionable Canvas Casual Partywear Outdoor Sneakers Bl...',\n",
       " 'Kwik FIT casual sneaker shoes and partywear shoes Casua...',\n",
       " 'Sneakers For Men',\n",
       " 'STYLISH MENS BLACK SNEAKER Sneakers For Men',\n",
       " \"men's Skyblue sneakers lace-up trendy casual Sneakers F...\",\n",
       " \"Original Luxury Branded Fashionable Men's Casual Walkin...\",\n",
       " 'Sneakers For Men',\n",
       " 'Sneakers For Men',\n",
       " 'Luxury Fashionable casual shoes Sneakers For Men',\n",
       " 'Stylish Comfortable Lightweight, Breathable Casual Walk...',\n",
       " 'Sneaker Sneakers For Men',\n",
       " 'Sneakers For Men',\n",
       " 'Sneakers For Men',\n",
       " 'Casuals, Canvas, Partywear Sneakers For Men',\n",
       " 'Smash v2 L White- Black Sneakers For Men',\n",
       " 'Sneakers Sneakers For Men',\n",
       " 'Sneakers Sneakers For Men',\n",
       " 'Shark-41 Sneakers For Men',\n",
       " 'Combo Pack of 3 Casual Shoes Sneakers For Men',\n",
       " 'Mike Stylish & Trendy Sneakers For Men',\n",
       " 'Sneakers For Men',\n",
       " 'Sneakers For Men',\n",
       " 'Modern Trendy Sneakers Shoes Sneakers For Men',\n",
       " 'Sneakers For Men',\n",
       " 'Modern Trendy Sneakers Shoes Sneakers For Men',\n",
       " 'Sneakers For Men',\n",
       " 'Sneakers For Men',\n",
       " 'Sneakers For Men',\n",
       " 'Luxury Fashionable casual sneaker shoes Sneakers For Me...',\n",
       " 'Stylish Comfortable Lightweight, Breathable Walking Sho...',\n",
       " 'Smash v2 L Sneakers For Men',\n",
       " 'Stylish Comfortable Lightweight, Breathable Walking Sho...',\n",
       " 'CR-1 Sneakers For Men',\n",
       " 'STR2 Sneakers For Men',\n",
       " 'Puma Smash v2 L Sneakers For Men',\n",
       " 'Super Stylish & Trendy Combo Pack of 02 Pairs Sneakers ...',\n",
       " 'Fashionable Canvas Casual Partywear Outdoor Sneakers Bl...',\n",
       " 'Kwik FIT casual sneaker shoes and partywear shoes Casua...',\n",
       " 'Sneakers For Men',\n",
       " 'STYLISH MENS BLACK SNEAKER Sneakers For Men',\n",
       " \"men's Skyblue sneakers lace-up trendy casual Sneakers F...\",\n",
       " \"Original Luxury Branded Fashionable Men's Casual Walkin...\",\n",
       " 'Sneakers For Men',\n",
       " 'Sneakers For Men',\n",
       " 'Luxury Fashionable casual shoes Sneakers For Men',\n",
       " 'Stylish Comfortable Lightweight, Breathable Casual Walk...',\n",
       " 'Sneaker Sneakers For Men',\n",
       " 'Sneakers For Men']"
      ]
     },
     "execution_count": 53,
     "metadata": {},
     "output_type": "execute_result"
    }
   ],
   "source": [
    "P_desc[:100]"
   ]
  },
  {
   "cell_type": "code",
   "execution_count": 54,
   "id": "3ed9b52f",
   "metadata": {},
   "outputs": [
    {
     "data": {
      "text/plain": [
       "['₹499',\n",
       " '₹449',\n",
       " '₹2,096',\n",
       " '₹284',\n",
       " '₹289',\n",
       " '₹299',\n",
       " '₹499',\n",
       " '₹296',\n",
       " '₹219',\n",
       " '₹449',\n",
       " '₹319',\n",
       " '₹379',\n",
       " '₹398',\n",
       " '₹2,201',\n",
       " '₹442',\n",
       " '₹295',\n",
       " '₹299',\n",
       " '₹1,763',\n",
       " '₹649',\n",
       " '₹399',\n",
       " '₹397',\n",
       " '₹284',\n",
       " '₹499',\n",
       " '₹490',\n",
       " '₹474',\n",
       " '₹299',\n",
       " '₹579',\n",
       " '₹428',\n",
       " '₹398',\n",
       " '₹284',\n",
       " '₹414',\n",
       " '₹539',\n",
       " '₹479',\n",
       " '₹2,090',\n",
       " '₹399',\n",
       " '₹295',\n",
       " '₹435',\n",
       " '₹479',\n",
       " '₹707',\n",
       " '₹375',\n",
       " '₹499',\n",
       " '₹449',\n",
       " '₹2,096',\n",
       " '₹284',\n",
       " '₹289',\n",
       " '₹299',\n",
       " '₹499',\n",
       " '₹296',\n",
       " '₹219',\n",
       " '₹449',\n",
       " '₹319',\n",
       " '₹379',\n",
       " '₹398',\n",
       " '₹2,201',\n",
       " '₹442',\n",
       " '₹295',\n",
       " '₹299',\n",
       " '₹1,763',\n",
       " '₹649',\n",
       " '₹399',\n",
       " '₹397',\n",
       " '₹284',\n",
       " '₹499',\n",
       " '₹490',\n",
       " '₹474',\n",
       " '₹299',\n",
       " '₹579',\n",
       " '₹428',\n",
       " '₹398',\n",
       " '₹284',\n",
       " '₹414',\n",
       " '₹539',\n",
       " '₹479',\n",
       " '₹2,090',\n",
       " '₹399',\n",
       " '₹295',\n",
       " '₹435',\n",
       " '₹479',\n",
       " '₹707',\n",
       " '₹375',\n",
       " '₹499',\n",
       " '₹449',\n",
       " '₹2,096',\n",
       " '₹284',\n",
       " '₹289',\n",
       " '₹299',\n",
       " '₹499',\n",
       " '₹296',\n",
       " '₹219',\n",
       " '₹449',\n",
       " '₹319',\n",
       " '₹379',\n",
       " '₹398',\n",
       " '₹2,201',\n",
       " '₹442',\n",
       " '₹295',\n",
       " '₹299',\n",
       " '₹1,763',\n",
       " '₹649',\n",
       " '₹399']"
      ]
     },
     "execution_count": 54,
     "metadata": {},
     "output_type": "execute_result"
    }
   ],
   "source": [
    "Price[:100]"
   ]
  },
  {
   "cell_type": "code",
   "execution_count": 55,
   "id": "6c569cbe",
   "metadata": {},
   "outputs": [
    {
     "data": {
      "text/plain": [
       "['50% off',\n",
       " '55% off',\n",
       " '30% off',\n",
       " '78% off',\n",
       " '71% off',\n",
       " '76% off',\n",
       " '50% off',\n",
       " '40% off',\n",
       " '78% off',\n",
       " '55% off',\n",
       " '68% off',\n",
       " '87% off',\n",
       " '60% off',\n",
       " '37% off',\n",
       " '55% off',\n",
       " '40% off',\n",
       " '51% off',\n",
       " '49% off',\n",
       " '65% off',\n",
       " '80% off',\n",
       " '80% off',\n",
       " '71% off',\n",
       " '66% off',\n",
       " '75% off',\n",
       " '76% off',\n",
       " '70% off',\n",
       " '61% off',\n",
       " '67% off',\n",
       " '60% off',\n",
       " '78% off',\n",
       " '79% off',\n",
       " '82% off',\n",
       " '52% off',\n",
       " '40% off',\n",
       " '60% off',\n",
       " '40% off',\n",
       " '39% off',\n",
       " '52% off',\n",
       " '52% off',\n",
       " '24% off',\n",
       " '50% off',\n",
       " '55% off',\n",
       " '30% off',\n",
       " '78% off',\n",
       " '71% off',\n",
       " '76% off',\n",
       " '50% off',\n",
       " '40% off',\n",
       " '78% off',\n",
       " '55% off',\n",
       " '68% off',\n",
       " '87% off',\n",
       " '60% off',\n",
       " '37% off',\n",
       " '55% off',\n",
       " '40% off',\n",
       " '51% off',\n",
       " '49% off',\n",
       " '65% off',\n",
       " '80% off',\n",
       " '80% off',\n",
       " '71% off',\n",
       " '66% off',\n",
       " '75% off',\n",
       " '76% off',\n",
       " '70% off',\n",
       " '61% off',\n",
       " '67% off',\n",
       " '60% off',\n",
       " '78% off',\n",
       " '79% off',\n",
       " '82% off',\n",
       " '52% off',\n",
       " '40% off',\n",
       " '60% off',\n",
       " '40% off',\n",
       " '39% off',\n",
       " '52% off',\n",
       " '52% off',\n",
       " '24% off',\n",
       " '50% off',\n",
       " '55% off',\n",
       " '30% off',\n",
       " '78% off',\n",
       " '71% off',\n",
       " '76% off',\n",
       " '50% off',\n",
       " '40% off',\n",
       " '78% off',\n",
       " '55% off',\n",
       " '68% off',\n",
       " '87% off',\n",
       " '60% off',\n",
       " '37% off',\n",
       " '55% off',\n",
       " '40% off',\n",
       " '51% off',\n",
       " '49% off',\n",
       " '65% off',\n",
       " '80% off']"
      ]
     },
     "execution_count": 55,
     "metadata": {},
     "output_type": "execute_result"
    }
   ],
   "source": [
    "Discount[:100]"
   ]
  },
  {
   "cell_type": "code",
   "execution_count": 56,
   "id": "139ac779",
   "metadata": {},
   "outputs": [],
   "source": [
    "#Import pandas as pd\n",
    "sneakers=pd.DataFrame({})\n",
    "sneakers['Brand_name']=B_name[:100]\n",
    "sneakers['P_price']=Price[:100]\n",
    "sneakers['Pr_desc']=P_desc[:100]"
   ]
  },
  {
   "cell_type": "code",
   "execution_count": 57,
   "id": "620adc6b",
   "metadata": {},
   "outputs": [
    {
     "data": {
      "text/html": [
       "<div>\n",
       "<style scoped>\n",
       "    .dataframe tbody tr th:only-of-type {\n",
       "        vertical-align: middle;\n",
       "    }\n",
       "\n",
       "    .dataframe tbody tr th {\n",
       "        vertical-align: top;\n",
       "    }\n",
       "\n",
       "    .dataframe thead th {\n",
       "        text-align: right;\n",
       "    }\n",
       "</style>\n",
       "<table border=\"1\" class=\"dataframe\">\n",
       "  <thead>\n",
       "    <tr style=\"text-align: right;\">\n",
       "      <th></th>\n",
       "      <th>Brand_name</th>\n",
       "      <th>P_price</th>\n",
       "      <th>Pr_desc</th>\n",
       "    </tr>\n",
       "  </thead>\n",
       "  <tbody>\n",
       "    <tr>\n",
       "      <th>0</th>\n",
       "      <td>Sumohan</td>\n",
       "      <td>₹499</td>\n",
       "      <td>Sneakers For Men</td>\n",
       "    </tr>\n",
       "    <tr>\n",
       "      <th>1</th>\n",
       "      <td>ZF - ALFIYA</td>\n",
       "      <td>₹449</td>\n",
       "      <td>Sneakers For Men</td>\n",
       "    </tr>\n",
       "    <tr>\n",
       "      <th>2</th>\n",
       "      <td>WOODLAND</td>\n",
       "      <td>₹2,096</td>\n",
       "      <td>Modern Trendy Sneakers Shoes Sneakers For Men</td>\n",
       "    </tr>\n",
       "    <tr>\n",
       "      <th>3</th>\n",
       "      <td>BRUTON</td>\n",
       "      <td>₹284</td>\n",
       "      <td>Sneakers For Men</td>\n",
       "    </tr>\n",
       "    <tr>\n",
       "      <th>4</th>\n",
       "      <td>SFR</td>\n",
       "      <td>₹289</td>\n",
       "      <td>Modern Trendy Sneakers Shoes Sneakers For Men</td>\n",
       "    </tr>\n",
       "    <tr>\n",
       "      <th>...</th>\n",
       "      <td>...</td>\n",
       "      <td>...</td>\n",
       "      <td>...</td>\n",
       "    </tr>\n",
       "    <tr>\n",
       "      <th>95</th>\n",
       "      <td>HOTSTYLE</td>\n",
       "      <td>₹295</td>\n",
       "      <td>Sneakers For Men</td>\n",
       "    </tr>\n",
       "    <tr>\n",
       "      <th>96</th>\n",
       "      <td>ONECENTRE</td>\n",
       "      <td>₹299</td>\n",
       "      <td>Luxury Fashionable casual shoes Sneakers For Men</td>\n",
       "    </tr>\n",
       "    <tr>\n",
       "      <th>97</th>\n",
       "      <td>PUMA</td>\n",
       "      <td>₹1,763</td>\n",
       "      <td>Stylish Comfortable Lightweight, Breathable Ca...</td>\n",
       "    </tr>\n",
       "    <tr>\n",
       "      <th>98</th>\n",
       "      <td>Chevit</td>\n",
       "      <td>₹649</td>\n",
       "      <td>Sneaker Sneakers For Men</td>\n",
       "    </tr>\n",
       "    <tr>\n",
       "      <th>99</th>\n",
       "      <td>kardam&amp;sons</td>\n",
       "      <td>₹399</td>\n",
       "      <td>Sneakers For Men</td>\n",
       "    </tr>\n",
       "  </tbody>\n",
       "</table>\n",
       "<p>100 rows × 3 columns</p>\n",
       "</div>"
      ],
      "text/plain": [
       "     Brand_name P_price                                            Pr_desc\n",
       "0       Sumohan    ₹499                                   Sneakers For Men\n",
       "1   ZF - ALFIYA    ₹449                                   Sneakers For Men\n",
       "2      WOODLAND  ₹2,096      Modern Trendy Sneakers Shoes Sneakers For Men\n",
       "3        BRUTON    ₹284                                   Sneakers For Men\n",
       "4           SFR    ₹289      Modern Trendy Sneakers Shoes Sneakers For Men\n",
       "..          ...     ...                                                ...\n",
       "95     HOTSTYLE    ₹295                                   Sneakers For Men\n",
       "96    ONECENTRE    ₹299   Luxury Fashionable casual shoes Sneakers For Men\n",
       "97         PUMA  ₹1,763  Stylish Comfortable Lightweight, Breathable Ca...\n",
       "98       Chevit    ₹649                           Sneaker Sneakers For Men\n",
       "99  kardam&sons    ₹399                                   Sneakers For Men\n",
       "\n",
       "[100 rows x 3 columns]"
      ]
     },
     "execution_count": 57,
     "metadata": {},
     "output_type": "execute_result"
    }
   ],
   "source": [
    "sneakers"
   ]
  },
  {
   "cell_type": "markdown",
   "id": "ac0b4b97",
   "metadata": {},
   "source": [
    "# 7 Go to the link - https://www.myntra.com/shoes Set second Price filter and Color filter to “Black”, as shown in the below image."
   ]
  },
  {
   "cell_type": "code",
   "execution_count": null,
   "id": "d66ed952",
   "metadata": {},
   "outputs": [],
   "source": [
    "driver=webdriver.Chrome(\"chromedriver.exe\")\n",
    "driver.get(\"https://www.myntra.com/shoes\")\n",
    "from selenium .webdriver.common.by import By"
   ]
  },
  {
   "cell_type": "code",
   "execution_count": 153,
   "id": "0604e12e",
   "metadata": {},
   "outputs": [],
   "source": [
    "price_band=driver.find_element(By.XPATH,'/html/body/div[2]/div/div[1]/main/div[3]/div[1]/section/div/div[5]/ul/li[2]/label')\n",
    "price_band.click()"
   ]
  },
  {
   "cell_type": "code",
   "execution_count": 154,
   "id": "dcb69275",
   "metadata": {},
   "outputs": [],
   "source": [
    "time.sleep(2)\n",
    "driver.find_element(By.XPATH,'/html/body/div[2]/div/div[1]/main/div[3]/div[1]/section/div/div[6]/ul/li[1]/label/div').click()\n",
    "time.sleep(2)"
   ]
  },
  {
   "cell_type": "code",
   "execution_count": 155,
   "id": "8cc79596",
   "metadata": {},
   "outputs": [
    {
     "name": "stdout",
     "output_type": "stream",
     "text": [
      "100 100 100\n"
     ]
    },
    {
     "data": {
      "text/html": [
       "<div>\n",
       "<style scoped>\n",
       "    .dataframe tbody tr th:only-of-type {\n",
       "        vertical-align: middle;\n",
       "    }\n",
       "\n",
       "    .dataframe tbody tr th {\n",
       "        vertical-align: top;\n",
       "    }\n",
       "\n",
       "    .dataframe thead th {\n",
       "        text-align: right;\n",
       "    }\n",
       "</style>\n",
       "<table border=\"1\" class=\"dataframe\">\n",
       "  <thead>\n",
       "    <tr style=\"text-align: right;\">\n",
       "      <th></th>\n",
       "      <th>Brand</th>\n",
       "      <th>Prodcut Discription</th>\n",
       "      <th>Price</th>\n",
       "    </tr>\n",
       "  </thead>\n",
       "  <tbody>\n",
       "    <tr>\n",
       "      <th>0</th>\n",
       "      <td>Nike</td>\n",
       "      <td>Men React Infinity 3 Running</td>\n",
       "      <td>Rs. 11196Rs. 13995(20% OFF)</td>\n",
       "    </tr>\n",
       "    <tr>\n",
       "      <th>1</th>\n",
       "      <td>Nike</td>\n",
       "      <td>Men KD 15 Basketball Shoes</td>\n",
       "      <td>Rs. 12595Rs. 13995(10% OFF)</td>\n",
       "    </tr>\n",
       "    <tr>\n",
       "      <th>2</th>\n",
       "      <td>Nike</td>\n",
       "      <td>Men SRG 3 FK Training Shoes</td>\n",
       "      <td>Rs. 8005Rs. 8895(10% OFF)</td>\n",
       "    </tr>\n",
       "    <tr>\n",
       "      <th>3</th>\n",
       "      <td>Nike</td>\n",
       "      <td>Women React MR 3 Running Shoes</td>\n",
       "      <td>Rs. 8396Rs. 10495(20% OFF)</td>\n",
       "    </tr>\n",
       "    <tr>\n",
       "      <th>4</th>\n",
       "      <td>Puma</td>\n",
       "      <td>Eternity Nitro Running Shoes</td>\n",
       "      <td>Rs. 9749Rs. 12999(25% OFF)</td>\n",
       "    </tr>\n",
       "    <tr>\n",
       "      <th>...</th>\n",
       "      <td>...</td>\n",
       "      <td>...</td>\n",
       "      <td>...</td>\n",
       "    </tr>\n",
       "    <tr>\n",
       "      <th>95</th>\n",
       "      <td>Clarks</td>\n",
       "      <td>Men Solid Formal Leather Derbys</td>\n",
       "      <td>Rs. 7899Rs. 9999(21% OFF)</td>\n",
       "    </tr>\n",
       "    <tr>\n",
       "      <th>96</th>\n",
       "      <td>Cole Haan</td>\n",
       "      <td>Women Solid Leather Ballerinas</td>\n",
       "      <td>Rs. 9799Rs. 13999(30% OFF)</td>\n",
       "    </tr>\n",
       "    <tr>\n",
       "      <th>97</th>\n",
       "      <td>DAVINCHI</td>\n",
       "      <td>Men Formal Leather Slip-Ons</td>\n",
       "      <td>Rs. 8990</td>\n",
       "    </tr>\n",
       "    <tr>\n",
       "      <th>98</th>\n",
       "      <td>ECCO</td>\n",
       "      <td>Leather Stiletto Pumps</td>\n",
       "      <td>Rs. 12999</td>\n",
       "    </tr>\n",
       "    <tr>\n",
       "      <th>99</th>\n",
       "      <td>J.FONTINI</td>\n",
       "      <td>Men Solid Leather Formal Loafers</td>\n",
       "      <td>Rs. 9990</td>\n",
       "    </tr>\n",
       "  </tbody>\n",
       "</table>\n",
       "<p>100 rows × 3 columns</p>\n",
       "</div>"
      ],
      "text/plain": [
       "        Brand               Prodcut Discription                        Price\n",
       "0        Nike      Men React Infinity 3 Running  Rs. 11196Rs. 13995(20% OFF)\n",
       "1        Nike        Men KD 15 Basketball Shoes  Rs. 12595Rs. 13995(10% OFF)\n",
       "2        Nike       Men SRG 3 FK Training Shoes    Rs. 8005Rs. 8895(10% OFF)\n",
       "3        Nike    Women React MR 3 Running Shoes   Rs. 8396Rs. 10495(20% OFF)\n",
       "4        Puma      Eternity Nitro Running Shoes   Rs. 9749Rs. 12999(25% OFF)\n",
       "..        ...                               ...                          ...\n",
       "95     Clarks   Men Solid Formal Leather Derbys    Rs. 7899Rs. 9999(21% OFF)\n",
       "96  Cole Haan    Women Solid Leather Ballerinas   Rs. 9799Rs. 13999(30% OFF)\n",
       "97   DAVINCHI       Men Formal Leather Slip-Ons                     Rs. 8990\n",
       "98       ECCO            Leather Stiletto Pumps                    Rs. 12999\n",
       "99  J.FONTINI  Men Solid Leather Formal Loafers                     Rs. 9990\n",
       "\n",
       "[100 rows x 3 columns]"
      ]
     },
     "execution_count": 155,
     "metadata": {},
     "output_type": "execute_result"
    }
   ],
   "source": [
    "brand=[]\n",
    "price=[]\n",
    "short_dis=[]\n",
    "def Shoe_scrap():\n",
    "    br=driver.find_elements(By.XPATH,'//h3[@class=\"product-brand\"]')\n",
    "    for i in br:\n",
    "        brand.append(i.text)\n",
    "    pr=driver.find_elements(By.XPATH,'//h4[@class=\"product-product\"]')\n",
    "    for i in pr:\n",
    "        short_dis.append(i.text)\n",
    "    sd=driver.find_elements(By.XPATH,'//div[@class=\"product-price\"]')\n",
    "    for i in sd:\n",
    "        price.append(i.text)\n",
    "Shoe_scrap()\n",
    "driver.find_element(By.XPATH,'/html/body/div[2]/div/div[1]/main/div[3]/div[2]/div/div[2]/section/div[2]/ul/li[3]/a').click()\n",
    "time.sleep(3)\n",
    "Shoe_scrap()\n",
    "print(len(brand),len(price),len(short_dis))\n",
    "#class=\"pagination-number\"\n",
    "Shoe=pd.DataFrame({'Brand':brand,'Prodcut Discription':short_dis,'Price':price})\n",
    "Shoe"
   ]
  },
  {
   "cell_type": "code",
   "execution_count": 156,
   "id": "40e21729",
   "metadata": {},
   "outputs": [],
   "source": [
    "driver.close()"
   ]
  },
  {
   "cell_type": "markdown",
   "id": "b4159550",
   "metadata": {},
   "source": [
    "# Q8.Go to webpage https://www.amazon.in/Enter “Laptop” in the search field and then click"
   ]
  },
  {
   "cell_type": "code",
   "execution_count": 5,
   "id": "d8264f0d",
   "metadata": {},
   "outputs": [],
   "source": [
    "import selenium\n",
    "import pandas as pd\n",
    "from selenium import webdriver\n",
    "import warnings\n",
    "warnings.filterwarnings(\"ignore\")\n",
    "import time\n",
    "from selenium .webdriver.common.by import By"
   ]
  },
  {
   "cell_type": "code",
   "execution_count": 6,
   "id": "dbdd890e",
   "metadata": {},
   "outputs": [],
   "source": [
    "driver = webdriver.Chrome(r\"C:\\Users\\dell\\Downloads\\chromedriver_win32\\chromedriver.exe\")"
   ]
  },
  {
   "cell_type": "code",
   "execution_count": 7,
   "id": "c8e7f2e4",
   "metadata": {},
   "outputs": [],
   "source": [
    "driver=webdriver.Chrome(\"chromedriver.exe\")\n",
    "time.sleep(2)"
   ]
  },
  {
   "cell_type": "code",
   "execution_count": 8,
   "id": "235f46b2",
   "metadata": {},
   "outputs": [],
   "source": [
    "url=\"https://www.amazon.in/\"\n",
    "driver.get(url)"
   ]
  },
  {
   "cell_type": "code",
   "execution_count": 9,
   "id": "decf804e",
   "metadata": {},
   "outputs": [],
   "source": [
    "driver.maximize_window()"
   ]
  },
  {
   "cell_type": "code",
   "execution_count": 10,
   "id": "244ba6b4",
   "metadata": {},
   "outputs": [],
   "source": [
    "search_col=driver.find_element(By.XPATH,\"//input[@class='nav-input nav-progressive-attribute']\")\n",
    "search_col.send_keys('laptop')"
   ]
  },
  {
   "cell_type": "code",
   "execution_count": 11,
   "id": "89ce2256",
   "metadata": {},
   "outputs": [],
   "source": [
    "search_button=driver.find_elements(By.XPATH,\"//input[@class='nav-input nav-progressive-attribute']\")"
   ]
  },
  {
   "cell_type": "code",
   "execution_count": 12,
   "id": "b3fd3a51",
   "metadata": {},
   "outputs": [],
   "source": [
    "search_button[1].click()"
   ]
  },
  {
   "cell_type": "code",
   "execution_count": 13,
   "id": "e4e36790",
   "metadata": {},
   "outputs": [
    {
     "data": {
      "text/plain": [
       "['HP 15- AMD Ryzen 3-3250U 15.6 inch(39.6 cm) FHD,Micro-Edge, Thin & Light Laptop (8 GB RAM/1TB HDD + 256GB SSD/ AMD Radeon™ Graphics/ Win11/MS Office/1.74 kg (15s-gr0012AU)',\n",
       " 'HP 15s 12thGen IntelCore i5 8GB RAM/512GB SSD 15.6inch(39.6cm) FHD,Anti-Glare,Micro-Edge Display/Intel Iris Xe Graphics/Dual Speakers/Win 11/Alexa Built-in/MSO 2021/1.69kg, 15s-fq5009TU Natural Silver',\n",
       " 'ASUS VivoBook 15 (2021), 15.6-inch (39.62 cm) HD, Dual Core Intel Celeron N4020, Thin and Light Laptop (4GB RAM/256GB SSD/Integrated Graphics/Windows 11 Home/Transparent Silver/1.8 Kg), X515MA-BR011W',\n",
       " '(Renewed) Dell Latitude Laptop E3380 Touch Screen Intel Core i5 - 7200u Processor 7th Gen, 4 GB Ram & 128 GB SSD, 13.3 Inches (Ultra Slim) Notebook Computer',\n",
       " 'Lenovo IdeaPad Slim 3 Intel Celeron N4020 15.6\" (39.62cm) HD Thin & Light Laptop (8GB/256GB SSD/Windows 11/Office 2021/2Yr Warranty/3months Game Pass/Platinum Grey/1.7Kg), 81WQ00MQIN',\n",
       " 'Lenovo IdeaPad Slim 5i 11th Gen Intel Core i5 15.6\" FHD IPS Thin, Light Laptop (8GB/1TB HDD+256GB SSD/Windows10/Office19/MX450 2GB GDDR6/Fingerprint/Graphite Grey/Aluminium Surface/1.66Kg) 82FG00BPIN',\n",
       " 'Dell Inspiron 3593 Intel 10th Gen Ci5-1035G1 15.6 Inches Laptop (8GB/1TB HDD + 256GB SSD/Windows 10 Home /NVIDIA 2GBMX 230 Graphics, Platinum Silver)',\n",
       " 'HP 14 10th Gen Intel Core i3 14 inches FHD Screen Laptop with 4G (LTE), 8GB RAM, 1TB HDD, Windows 10, MS Office, 1.46kg, 14s-er0004TU',\n",
       " \"Dell New Inspiron 3525 Laptop, AMD Athlon Silver 3050U, Windows 11 + Office'21, 8Gb Gddr4, 256Gb Ssd, Radeon Graphics, 15.6 Inches (39.62Cms) Hd Anti Glare (D560766Win9Be, 1.68Kgs)\",\n",
       " \"Lenovo IdeaPad Slim 1 Intel Celeron N4020 11.6'' (29.46cm) HD Thin & Light Laptop (4GB/256GB SSD/Windows 11/Office 2021/3months Game Pass/Platinum Grey/1.2Kg), 81VT009UIN\"]"
      ]
     },
     "execution_count": 13,
     "metadata": {},
     "output_type": "execute_result"
    }
   ],
   "source": [
    "title_el=driver.find_elements(By.XPATH,\"//h2[@class='a-size-mini a-spacing-none a-color-base s-line-clamp-2']\")\n",
    "title=[]\n",
    "for i in title_el[:10]:\n",
    "    title.append(i.text)\n",
    "title"
   ]
  },
  {
   "cell_type": "code",
   "execution_count": 14,
   "id": "0eac73a1",
   "metadata": {},
   "outputs": [
    {
     "data": {
      "text/plain": [
       "['38,999',\n",
       " '54,290',\n",
       " '25,990',\n",
       " '25,990',\n",
       " '28,980',\n",
       " '25,253',\n",
       " '71,200',\n",
       " '68,000',\n",
       " '53,000',\n",
       " '29,490']"
      ]
     },
     "execution_count": 14,
     "metadata": {},
     "output_type": "execute_result"
    }
   ],
   "source": [
    "price_el=driver.find_elements(By.XPATH,\"//span[@class='a-price-whole']\")\n",
    "price=[]\n",
    "for i in price_el[:10]:\n",
    "    price.append(i.text)\n",
    "price"
   ]
  },
  {
   "cell_type": "code",
   "execution_count": 15,
   "id": "3cc2a2e9",
   "metadata": {},
   "outputs": [
    {
     "data": {
      "text/plain": [
       "['https://aax-eu.amazon.in/x/c/QqQVScmoEDrMqguTeVdgcNQAAAGB-rSpUQMAAAH2AUdd9Vc/https://www.amazon.in/dp/B09QQN2M4G?pd_rd_i=B09QQN2M4G&pf_rd_p=d882f7bc-c7c5-4887-b939-1af6f91cc448&pf_rd_r=H5K5CJT0FCQ4NND6VZ2W&pd_rd_wg=DqEXB&pd_rd_w=yE6eV&pd_rd_r=fdab9376-bac5-42a1-a281-121bcf035e80',\n",
       " 'https://aax-eu.amazon.in/x/c/QtrwHPqnt4E3uvBG3dGe8VYAAAGB-rSpawMAAAH2AbhjdeY/https://www.amazon.in/dp/B09WN8FF5T?pd_rd_i=B09WN8FF5T&pf_rd_p=b0aedc9a-bc0f-46ba-b960-f9f1507d9a7f&pf_rd_r=H5K5CJT0FCQ4NND6VZ2W&pd_rd_wg=HyGGx&pd_rd_w=oQ2x0&pd_rd_r=537afecb-2d4f-4c50-bfcd-d9a5448961c7']"
      ]
     },
     "execution_count": 15,
     "metadata": {},
     "output_type": "execute_result"
    }
   ],
   "source": [
    "url2=driver.find_elements(By.XPATH,\"//a[@class='a-link-normal a-text-normal']\")\n",
    "\n",
    "rating1_url=[]\n",
    "for i in url2[:10]:\n",
    "    rating1_url.append(i.get_attribute('href'))\n",
    "rating1_url"
   ]
  },
  {
   "cell_type": "code",
   "execution_count": 31,
   "id": "92b38fbd",
   "metadata": {},
   "outputs": [
    {
     "data": {
      "text/plain": [
       "['4.0', '4.3']"
      ]
     },
     "execution_count": 31,
     "metadata": {},
     "output_type": "execute_result"
    }
   ],
   "source": [
    "import time\n",
    "rating1=[]\n",
    "for i in rating1_url[:10]:\n",
    "    driver.get(i)\n",
    "    time.sleep(3)\n",
    "    try:\n",
    "        \n",
    "        ratings = driver.find_element(By.XPATH,\".//span[@class='a-icon-alt']/..\")\n",
    "        ratings = ratings.get_attribute('innerHTML').split(\">\")[1].split(\" \")[0]\n",
    "        rating1.append(ratings)\n",
    "    except:\n",
    "        \n",
    "        \n",
    "        rating1.append(\"00\")\n",
    "rating1"
   ]
  },
  {
   "cell_type": "code",
   "execution_count": 20,
   "id": "ed7f06b7",
   "metadata": {},
   "outputs": [
    {
     "data": {
      "text/plain": [
       "10"
      ]
     },
     "execution_count": 20,
     "metadata": {},
     "output_type": "execute_result"
    }
   ],
   "source": [
    "len(price)"
   ]
  },
  {
   "cell_type": "code",
   "execution_count": 21,
   "id": "c5cf1e80",
   "metadata": {},
   "outputs": [
    {
     "data": {
      "text/plain": [
       "10"
      ]
     },
     "execution_count": 21,
     "metadata": {},
     "output_type": "execute_result"
    }
   ],
   "source": [
    "len(title)"
   ]
  },
  {
   "cell_type": "code",
   "execution_count": 23,
   "id": "741ecd92",
   "metadata": {},
   "outputs": [],
   "source": [
    "import pandas as pd\n",
    "laptop_df=pd.DataFrame()"
   ]
  },
  {
   "cell_type": "code",
   "execution_count": 24,
   "id": "204314fb",
   "metadata": {},
   "outputs": [],
   "source": [
    "laptop_df['INDEX']=range(1,11)"
   ]
  },
  {
   "cell_type": "code",
   "execution_count": 25,
   "id": "e3491f18",
   "metadata": {},
   "outputs": [],
   "source": [
    "laptop_df['TITLE']=title[:10]"
   ]
  },
  {
   "cell_type": "code",
   "execution_count": 26,
   "id": "22ffe0af",
   "metadata": {},
   "outputs": [],
   "source": [
    "laptop_df['PRICE']=price[:10]"
   ]
  },
  {
   "cell_type": "code",
   "execution_count": 33,
   "id": "3ff1d283",
   "metadata": {},
   "outputs": [
    {
     "ename": "NameError",
     "evalue": "name 'rating' is not defined",
     "output_type": "error",
     "traceback": [
      "\u001b[1;31m---------------------------------------------------------------------------\u001b[0m",
      "\u001b[1;31mNameError\u001b[0m                                 Traceback (most recent call last)",
      "\u001b[1;32m~\\AppData\\Local\\Temp/ipykernel_6688/973511841.py\u001b[0m in \u001b[0;36m<module>\u001b[1;34m\u001b[0m\n\u001b[1;32m----> 1\u001b[1;33m \u001b[0mlaptop_df\u001b[0m\u001b[1;33m[\u001b[0m\u001b[1;34m'ratings'\u001b[0m\u001b[1;33m]\u001b[0m\u001b[1;33m=\u001b[0m\u001b[0mrating\u001b[0m\u001b[1;33m[\u001b[0m\u001b[1;33m:\u001b[0m\u001b[1;36m10\u001b[0m\u001b[1;33m]\u001b[0m\u001b[1;33m\u001b[0m\u001b[1;33m\u001b[0m\u001b[0m\n\u001b[0m",
      "\u001b[1;31mNameError\u001b[0m: name 'rating' is not defined"
     ]
    }
   ],
   "source": [
    "laptop_df['rating']=rating[:10]"
   ]
  },
  {
   "cell_type": "code",
   "execution_count": 34,
   "id": "cdd85f66",
   "metadata": {},
   "outputs": [
    {
     "data": {
      "text/html": [
       "<div>\n",
       "<style scoped>\n",
       "    .dataframe tbody tr th:only-of-type {\n",
       "        vertical-align: middle;\n",
       "    }\n",
       "\n",
       "    .dataframe tbody tr th {\n",
       "        vertical-align: top;\n",
       "    }\n",
       "\n",
       "    .dataframe thead th {\n",
       "        text-align: right;\n",
       "    }\n",
       "</style>\n",
       "<table border=\"1\" class=\"dataframe\">\n",
       "  <thead>\n",
       "    <tr style=\"text-align: right;\">\n",
       "      <th></th>\n",
       "      <th>TITLE</th>\n",
       "      <th>PRICE</th>\n",
       "    </tr>\n",
       "    <tr>\n",
       "      <th>INDEX</th>\n",
       "      <th></th>\n",
       "      <th></th>\n",
       "    </tr>\n",
       "  </thead>\n",
       "  <tbody>\n",
       "    <tr>\n",
       "      <th>1</th>\n",
       "      <td>HP 15- AMD Ryzen 3-3250U 15.6 inch(39.6 cm) FH...</td>\n",
       "      <td>38,999</td>\n",
       "    </tr>\n",
       "    <tr>\n",
       "      <th>2</th>\n",
       "      <td>HP 15s 12thGen IntelCore i5 8GB RAM/512GB SSD ...</td>\n",
       "      <td>54,290</td>\n",
       "    </tr>\n",
       "    <tr>\n",
       "      <th>3</th>\n",
       "      <td>ASUS VivoBook 15 (2021), 15.6-inch (39.62 cm) ...</td>\n",
       "      <td>25,990</td>\n",
       "    </tr>\n",
       "    <tr>\n",
       "      <th>4</th>\n",
       "      <td>(Renewed) Dell Latitude Laptop E3380 Touch Scr...</td>\n",
       "      <td>25,990</td>\n",
       "    </tr>\n",
       "    <tr>\n",
       "      <th>5</th>\n",
       "      <td>Lenovo IdeaPad Slim 3 Intel Celeron N4020 15.6...</td>\n",
       "      <td>28,980</td>\n",
       "    </tr>\n",
       "    <tr>\n",
       "      <th>6</th>\n",
       "      <td>Lenovo IdeaPad Slim 5i 11th Gen Intel Core i5 ...</td>\n",
       "      <td>25,253</td>\n",
       "    </tr>\n",
       "    <tr>\n",
       "      <th>7</th>\n",
       "      <td>Dell Inspiron 3593 Intel 10th Gen Ci5-1035G1 1...</td>\n",
       "      <td>71,200</td>\n",
       "    </tr>\n",
       "    <tr>\n",
       "      <th>8</th>\n",
       "      <td>HP 14 10th Gen Intel Core i3 14 inches FHD Scr...</td>\n",
       "      <td>68,000</td>\n",
       "    </tr>\n",
       "    <tr>\n",
       "      <th>9</th>\n",
       "      <td>Dell New Inspiron 3525 Laptop, AMD Athlon Silv...</td>\n",
       "      <td>53,000</td>\n",
       "    </tr>\n",
       "    <tr>\n",
       "      <th>10</th>\n",
       "      <td>Lenovo IdeaPad Slim 1 Intel Celeron N4020 11.6...</td>\n",
       "      <td>29,490</td>\n",
       "    </tr>\n",
       "  </tbody>\n",
       "</table>\n",
       "</div>"
      ],
      "text/plain": [
       "                                                   TITLE   PRICE\n",
       "INDEX                                                           \n",
       "1      HP 15- AMD Ryzen 3-3250U 15.6 inch(39.6 cm) FH...  38,999\n",
       "2      HP 15s 12thGen IntelCore i5 8GB RAM/512GB SSD ...  54,290\n",
       "3      ASUS VivoBook 15 (2021), 15.6-inch (39.62 cm) ...  25,990\n",
       "4      (Renewed) Dell Latitude Laptop E3380 Touch Scr...  25,990\n",
       "5      Lenovo IdeaPad Slim 3 Intel Celeron N4020 15.6...  28,980\n",
       "6      Lenovo IdeaPad Slim 5i 11th Gen Intel Core i5 ...  25,253\n",
       "7      Dell Inspiron 3593 Intel 10th Gen Ci5-1035G1 1...  71,200\n",
       "8      HP 14 10th Gen Intel Core i3 14 inches FHD Scr...  68,000\n",
       "9      Dell New Inspiron 3525 Laptop, AMD Athlon Silv...  53,000\n",
       "10     Lenovo IdeaPad Slim 1 Intel Celeron N4020 11.6...  29,490"
      ]
     },
     "execution_count": 34,
     "metadata": {},
     "output_type": "execute_result"
    }
   ],
   "source": [
    "laptop_df.set_index('INDEX',inplace=True)\n",
    "laptop_df"
   ]
  },
  {
   "cell_type": "markdown",
   "id": "d0193761",
   "metadata": {},
   "source": [
    "# 9. Write a python program to scrape data for first 10 job results for Data Scientist Designation in Noida \n",
    "location."
   ]
  },
  {
   "cell_type": "code",
   "execution_count": 35,
   "id": "926b8379",
   "metadata": {},
   "outputs": [],
   "source": [
    "import selenium\n",
    "import pandas as pd\n",
    "from selenium import webdriver\n",
    "import warnings\n",
    "warnings.filterwarnings(\"ignore\")\n",
    "import time\n",
    "from selenium .webdriver.common.by import By"
   ]
  },
  {
   "cell_type": "code",
   "execution_count": 36,
   "id": "fe90e32a",
   "metadata": {},
   "outputs": [],
   "source": [
    "driver = webdriver.Chrome(r\"C:\\Users\\dell\\Downloads\\chromedriver_win32\\chromedriver.exe\")"
   ]
  },
  {
   "cell_type": "code",
   "execution_count": 37,
   "id": "0746b752",
   "metadata": {},
   "outputs": [],
   "source": [
    "driver=webdriver.Chrome(\"chromedriver.exe\")\n",
    "time.sleep(2)"
   ]
  },
  {
   "cell_type": "code",
   "execution_count": 39,
   "id": "7fd79b6f",
   "metadata": {},
   "outputs": [],
   "source": [
    "driver.get('https://www.ambitionbox.com/')"
   ]
  },
  {
   "cell_type": "code",
   "execution_count": 41,
   "id": "e1930d1f",
   "metadata": {},
   "outputs": [
    {
     "data": {
      "text/plain": [
       "<selenium.webdriver.remote.webelement.WebElement (session=\"9b73617da9763a4f718a9bce1f712c17\", element=\"a5b3d834-409d-4fcc-b097-a569add2db6a\")>"
      ]
     },
     "execution_count": 41,
     "metadata": {},
     "output_type": "execute_result"
    }
   ],
   "source": [
    "# Finding element for job search bar\n",
    "search_g= driver.find_element(By.XPATH,\"//a[@class='link jobs']\") \n",
    "search_g"
   ]
  },
  {
   "cell_type": "code",
   "execution_count": 42,
   "id": "5c2c96a8",
   "metadata": {},
   "outputs": [],
   "source": [
    "# write on search bar\n",
    "search_g.send_keys('jobs')"
   ]
  },
  {
   "cell_type": "code",
   "execution_count": 43,
   "id": "1f60e67d",
   "metadata": {},
   "outputs": [],
   "source": [
    "search_button=driver.find_element(By.XPATH,\"/html/body/div[1]/nav/nav/a[6]\")\n",
    "search_button.click()"
   ]
  },
  {
   "cell_type": "code",
   "execution_count": 44,
   "id": "a7d5563a",
   "metadata": {},
   "outputs": [],
   "source": [
    "search_field_designation=driver.find_element(By.XPATH,\"/html/body/div/div/div/div[2]/div[1]/div[1]/div/div/div/div/span/input\")"
   ]
  },
  {
   "cell_type": "code",
   "execution_count": 45,
   "id": "06463cd1",
   "metadata": {},
   "outputs": [
    {
     "data": {
      "text/plain": [
       "<selenium.webdriver.remote.webelement.WebElement (session=\"9b73617da9763a4f718a9bce1f712c17\", element=\"249dde62-723c-4a4b-b848-e3b8870fbf29\")>"
      ]
     },
     "execution_count": 45,
     "metadata": {},
     "output_type": "execute_result"
    }
   ],
   "source": [
    "search_field_designation"
   ]
  },
  {
   "cell_type": "code",
   "execution_count": 46,
   "id": "a21398ab",
   "metadata": {},
   "outputs": [],
   "source": [
    "search_field_designation.send_keys(\"Data Scientist\")"
   ]
  },
  {
   "cell_type": "code",
   "execution_count": 47,
   "id": "5ee04ec1",
   "metadata": {},
   "outputs": [],
   "source": [
    "search_button=driver.find_element(By.XPATH,\"/html/body/div/div/div/div[2]/div[1]/div[1]/div/div/div/button/span\")\n",
    "search_button.click()"
   ]
  },
  {
   "cell_type": "code",
   "execution_count": 48,
   "id": "2a7f4a9b",
   "metadata": {},
   "outputs": [],
   "source": [
    "search_button=driver.find_element(By.XPATH,'/html/body/div/div/div/div[2]/div[1]/div[2]/div[1]/div/div/div/div[2]/div[1]/i')\n",
    "search_button.click()"
   ]
  },
  {
   "cell_type": "code",
   "execution_count": 49,
   "id": "55623ffd",
   "metadata": {},
   "outputs": [
    {
     "data": {
      "text/plain": [
       "<selenium.webdriver.remote.webelement.WebElement (session=\"9b73617da9763a4f718a9bce1f712c17\", element=\"ca6c5f93-ff10-4df0-a04f-4a35409b41f0\")>"
      ]
     },
     "execution_count": 49,
     "metadata": {},
     "output_type": "execute_result"
    }
   ],
   "source": [
    "select_button=driver.find_element(By.XPATH,\"//label[@class='radio-label']\")\n",
    "select_button"
   ]
  },
  {
   "cell_type": "code",
   "execution_count": 50,
   "id": "1443999d",
   "metadata": {},
   "outputs": [],
   "source": [
    "job_titles=[]\n",
    "company_names=[]\n",
    "locations_list=[]\n",
    "experience_list=[]"
   ]
  },
  {
   "cell_type": "code",
   "execution_count": 51,
   "id": "266d1fb2",
   "metadata": {},
   "outputs": [
    {
     "data": {
      "text/plain": [
       "[<selenium.webdriver.remote.webelement.WebElement (session=\"9b73617da9763a4f718a9bce1f712c17\", element=\"abe5bf9e-4922-4e09-b1cf-18e60d13856a\")>,\n",
       " <selenium.webdriver.remote.webelement.WebElement (session=\"9b73617da9763a4f718a9bce1f712c17\", element=\"43fd7a75-36c8-4e1b-a0de-4483219c25be\")>,\n",
       " <selenium.webdriver.remote.webelement.WebElement (session=\"9b73617da9763a4f718a9bce1f712c17\", element=\"f4508903-dc36-4e31-871b-f0a730343bfa\")>,\n",
       " <selenium.webdriver.remote.webelement.WebElement (session=\"9b73617da9763a4f718a9bce1f712c17\", element=\"66607c0b-6849-4d76-86a7-afde4b934365\")>,\n",
       " <selenium.webdriver.remote.webelement.WebElement (session=\"9b73617da9763a4f718a9bce1f712c17\", element=\"5c506f08-228d-429c-8075-691c38931332\")>,\n",
       " <selenium.webdriver.remote.webelement.WebElement (session=\"9b73617da9763a4f718a9bce1f712c17\", element=\"ec0986dd-21cb-43be-949a-4e6da75562fb\")>,\n",
       " <selenium.webdriver.remote.webelement.WebElement (session=\"9b73617da9763a4f718a9bce1f712c17\", element=\"25c25dd5-44fe-4064-831e-1b7444de6d39\")>,\n",
       " <selenium.webdriver.remote.webelement.WebElement (session=\"9b73617da9763a4f718a9bce1f712c17\", element=\"fa8281ea-7fcc-499c-9eb3-bba8ec3952fe\")>,\n",
       " <selenium.webdriver.remote.webelement.WebElement (session=\"9b73617da9763a4f718a9bce1f712c17\", element=\"cfb1519a-4e14-485d-aae4-77cdbe502465\")>,\n",
       " <selenium.webdriver.remote.webelement.WebElement (session=\"9b73617da9763a4f718a9bce1f712c17\", element=\"bcc126f0-c0bb-4483-999a-da458323e9a4\")>]"
      ]
     },
     "execution_count": 51,
     "metadata": {},
     "output_type": "execute_result"
    }
   ],
   "source": [
    "# lets extract all the tags having the job-titles\n",
    "titles_tags=driver.find_elements(By.XPATH,\"//a[@class='title noclick']\")\n",
    "titles_tags[0:10]"
   ]
  },
  {
   "cell_type": "code",
   "execution_count": 52,
   "id": "f3d7f86a",
   "metadata": {},
   "outputs": [
    {
     "data": {
      "text/plain": [
       "['Data Scientist: Artificial Intelligence',\n",
       " 'Data Scientist: Advanced Analytics',\n",
       " 'Principal - Data Scientist',\n",
       " 'Data Scientist: Artificial Intelligence',\n",
       " 'Data Scientist: Artificial Intelligence',\n",
       " 'Senior Data Scientist',\n",
       " 'Data Scientist',\n",
       " 'Data Scientist',\n",
       " 'Data Scientist',\n",
       " 'Data Scientist']"
      ]
     },
     "execution_count": 52,
     "metadata": {},
     "output_type": "execute_result"
    }
   ],
   "source": [
    "for i in titles_tags:\n",
    "    title=i.text\n",
    "    job_titles.append(title)\n",
    "job_titles[0:10]"
   ]
  },
  {
   "cell_type": "code",
   "execution_count": 53,
   "id": "0595c160",
   "metadata": {},
   "outputs": [
    {
     "data": {
      "text/plain": [
       "[<selenium.webdriver.remote.webelement.WebElement (session=\"9b73617da9763a4f718a9bce1f712c17\", element=\"560e89f5-f37d-48ea-96fc-7965178493d5\")>,\n",
       " <selenium.webdriver.remote.webelement.WebElement (session=\"9b73617da9763a4f718a9bce1f712c17\", element=\"4d43a554-2e76-48f6-a677-73b2954b5a89\")>,\n",
       " <selenium.webdriver.remote.webelement.WebElement (session=\"9b73617da9763a4f718a9bce1f712c17\", element=\"6e28c8a2-4a39-4cf0-ba4a-942cc1054fac\")>,\n",
       " <selenium.webdriver.remote.webelement.WebElement (session=\"9b73617da9763a4f718a9bce1f712c17\", element=\"5dc8c57c-c057-4453-9c9d-b70bc04eea24\")>,\n",
       " <selenium.webdriver.remote.webelement.WebElement (session=\"9b73617da9763a4f718a9bce1f712c17\", element=\"e97ee9fa-b08c-4a70-af2b-17252dcd82ff\")>,\n",
       " <selenium.webdriver.remote.webelement.WebElement (session=\"9b73617da9763a4f718a9bce1f712c17\", element=\"09baf318-8a1e-405c-bc1c-b6ad63483b11\")>,\n",
       " <selenium.webdriver.remote.webelement.WebElement (session=\"9b73617da9763a4f718a9bce1f712c17\", element=\"4a5f45ab-9894-43d5-b083-8d57a479dfa5\")>,\n",
       " <selenium.webdriver.remote.webelement.WebElement (session=\"9b73617da9763a4f718a9bce1f712c17\", element=\"d4cc4563-e2e8-4a5f-8115-333b2bb1715f\")>,\n",
       " <selenium.webdriver.remote.webelement.WebElement (session=\"9b73617da9763a4f718a9bce1f712c17\", element=\"ded0f188-d8f4-4155-a372-df6c1c6b143c\")>,\n",
       " <selenium.webdriver.remote.webelement.WebElement (session=\"9b73617da9763a4f718a9bce1f712c17\", element=\"08be54a9-613b-46de-90d7-c176f2af6530\")>]"
      ]
     },
     "execution_count": 53,
     "metadata": {},
     "output_type": "execute_result"
    }
   ],
   "source": [
    "#lets extract all the tags having the company names\n",
    "companies_tags=driver.find_elements(By.XPATH,\"//p[@class='company body-medium']\")\n",
    "companies_tags[0:10]"
   ]
  },
  {
   "cell_type": "code",
   "execution_count": 54,
   "id": "1acfbaed",
   "metadata": {},
   "outputs": [
    {
     "data": {
      "text/plain": [
       "['IBM India Pvt. Limited',\n",
       " 'IBM India Pvt. Limited',\n",
       " 'Schneider Electric India Pvt. Ltd.',\n",
       " 'IBM India Pvt. Limited',\n",
       " 'IBM India Pvt. Limited',\n",
       " 'Walmart Labs',\n",
       " 'Shell India Markets Private Limited',\n",
       " 'IBM India Pvt. Limited',\n",
       " 'IBM India Pvt. Limited',\n",
       " 'IBM India Pvt. Limited']"
      ]
     },
     "execution_count": 54,
     "metadata": {},
     "output_type": "execute_result"
    }
   ],
   "source": [
    "for i in companies_tags:\n",
    "    company_name=i.text\n",
    "    company_names.append(company_name)\n",
    "company_names[0:10]"
   ]
  },
  {
   "cell_type": "code",
   "execution_count": 57,
   "id": "cc127a8f",
   "metadata": {},
   "outputs": [
    {
     "data": {
      "text/plain": [
       "[<selenium.webdriver.remote.webelement.WebElement (session=\"9b73617da9763a4f718a9bce1f712c17\", element=\"3bf0c1af-9ee1-42fb-8229-d0c74136fb19\")>,\n",
       " <selenium.webdriver.remote.webelement.WebElement (session=\"9b73617da9763a4f718a9bce1f712c17\", element=\"680e6a87-4b1d-4a27-9476-091c55d7b1e8\")>,\n",
       " <selenium.webdriver.remote.webelement.WebElement (session=\"9b73617da9763a4f718a9bce1f712c17\", element=\"0629cd97-a22f-4bab-9094-27f723b982a8\")>,\n",
       " <selenium.webdriver.remote.webelement.WebElement (session=\"9b73617da9763a4f718a9bce1f712c17\", element=\"a2a844dc-1163-4f98-8096-416916335c70\")>,\n",
       " <selenium.webdriver.remote.webelement.WebElement (session=\"9b73617da9763a4f718a9bce1f712c17\", element=\"69c2a368-9f42-4270-a0fe-9d1bc73edfd5\")>,\n",
       " <selenium.webdriver.remote.webelement.WebElement (session=\"9b73617da9763a4f718a9bce1f712c17\", element=\"c960eed1-928f-4fe4-89da-0fd1d2d7a7fc\")>,\n",
       " <selenium.webdriver.remote.webelement.WebElement (session=\"9b73617da9763a4f718a9bce1f712c17\", element=\"5e2cebaa-ccb1-4595-a210-25ec6c99c911\")>,\n",
       " <selenium.webdriver.remote.webelement.WebElement (session=\"9b73617da9763a4f718a9bce1f712c17\", element=\"82df5657-078b-41ed-a0e4-6f35e18a7e85\")>,\n",
       " <selenium.webdriver.remote.webelement.WebElement (session=\"9b73617da9763a4f718a9bce1f712c17\", element=\"97f6f36b-9bb4-4dc5-94a9-bac6c566d8fa\")>,\n",
       " <selenium.webdriver.remote.webelement.WebElement (session=\"9b73617da9763a4f718a9bce1f712c17\", element=\"e9d12720-a365-4124-bf7d-7027906772bd\")>]"
      ]
     },
     "execution_count": 57,
     "metadata": {},
     "output_type": "execute_result"
    }
   ],
   "source": [
    "#  lets extract all the tags having the experience required data\n",
    "experience_tags=driver.find_elements(By.XPATH,\"//p[@class='body-small-l']\")\n",
    "experience_tags[0:10]"
   ]
  },
  {
   "cell_type": "code",
   "execution_count": 58,
   "id": "2c9e64c5",
   "metadata": {},
   "outputs": [
    {
     "data": {
      "text/plain": [
       "['3-7 years',\n",
       " 'Not Disclosed',\n",
       " 'Gurgaon/Gurugram',\n",
       " '3-7 Yrs',\n",
       " 'Not Disclosed',\n",
       " 'Gurgaon/Gurugram',\n",
       " 'open source, product development, enterprise applications +2 more',\n",
       " '5-10 Yrs',\n",
       " 'Not Disclosed',\n",
       " 'Gurgaon/Gurugram']"
      ]
     },
     "execution_count": 58,
     "metadata": {},
     "output_type": "execute_result"
    }
   ],
   "source": [
    "for i in experience_tags:\n",
    "    experience=i.text\n",
    "    experience_list.append(experience)\n",
    "experience_list[0:10]"
   ]
  },
  {
   "cell_type": "code",
   "execution_count": 59,
   "id": "95cb25c3",
   "metadata": {},
   "outputs": [],
   "source": [
    "#Import pandas as pd\n",
    "jobs=pd.DataFrame({})\n",
    "jobs['title']=job_titles[:10]\n",
    "jobs['company']=company_names[:10]\n",
    "jobs['experience_required']=experience_list[:10]"
   ]
  },
  {
   "cell_type": "code",
   "execution_count": 60,
   "id": "60ba6de4",
   "metadata": {},
   "outputs": [
    {
     "data": {
      "text/html": [
       "<div>\n",
       "<style scoped>\n",
       "    .dataframe tbody tr th:only-of-type {\n",
       "        vertical-align: middle;\n",
       "    }\n",
       "\n",
       "    .dataframe tbody tr th {\n",
       "        vertical-align: top;\n",
       "    }\n",
       "\n",
       "    .dataframe thead th {\n",
       "        text-align: right;\n",
       "    }\n",
       "</style>\n",
       "<table border=\"1\" class=\"dataframe\">\n",
       "  <thead>\n",
       "    <tr style=\"text-align: right;\">\n",
       "      <th></th>\n",
       "      <th>title</th>\n",
       "      <th>company</th>\n",
       "      <th>experience_required</th>\n",
       "    </tr>\n",
       "  </thead>\n",
       "  <tbody>\n",
       "    <tr>\n",
       "      <th>0</th>\n",
       "      <td>Data Scientist: Artificial Intelligence</td>\n",
       "      <td>IBM India Pvt. Limited</td>\n",
       "      <td>3-7 years</td>\n",
       "    </tr>\n",
       "    <tr>\n",
       "      <th>1</th>\n",
       "      <td>Data Scientist: Advanced Analytics</td>\n",
       "      <td>IBM India Pvt. Limited</td>\n",
       "      <td>Not Disclosed</td>\n",
       "    </tr>\n",
       "    <tr>\n",
       "      <th>2</th>\n",
       "      <td>Principal - Data Scientist</td>\n",
       "      <td>Schneider Electric India Pvt. Ltd.</td>\n",
       "      <td>Gurgaon/Gurugram</td>\n",
       "    </tr>\n",
       "    <tr>\n",
       "      <th>3</th>\n",
       "      <td>Data Scientist: Artificial Intelligence</td>\n",
       "      <td>IBM India Pvt. Limited</td>\n",
       "      <td>3-7 Yrs</td>\n",
       "    </tr>\n",
       "    <tr>\n",
       "      <th>4</th>\n",
       "      <td>Data Scientist: Artificial Intelligence</td>\n",
       "      <td>IBM India Pvt. Limited</td>\n",
       "      <td>Not Disclosed</td>\n",
       "    </tr>\n",
       "    <tr>\n",
       "      <th>5</th>\n",
       "      <td>Senior Data Scientist</td>\n",
       "      <td>Walmart Labs</td>\n",
       "      <td>Gurgaon/Gurugram</td>\n",
       "    </tr>\n",
       "    <tr>\n",
       "      <th>6</th>\n",
       "      <td>Data Scientist</td>\n",
       "      <td>Shell India Markets Private Limited</td>\n",
       "      <td>open source, product development, enterprise a...</td>\n",
       "    </tr>\n",
       "    <tr>\n",
       "      <th>7</th>\n",
       "      <td>Data Scientist</td>\n",
       "      <td>IBM India Pvt. Limited</td>\n",
       "      <td>5-10 Yrs</td>\n",
       "    </tr>\n",
       "    <tr>\n",
       "      <th>8</th>\n",
       "      <td>Data Scientist</td>\n",
       "      <td>IBM India Pvt. Limited</td>\n",
       "      <td>Not Disclosed</td>\n",
       "    </tr>\n",
       "    <tr>\n",
       "      <th>9</th>\n",
       "      <td>Data Scientist</td>\n",
       "      <td>IBM India Pvt. Limited</td>\n",
       "      <td>Gurgaon/Gurugram</td>\n",
       "    </tr>\n",
       "  </tbody>\n",
       "</table>\n",
       "</div>"
      ],
      "text/plain": [
       "                                     title  \\\n",
       "0  Data Scientist: Artificial Intelligence   \n",
       "1       Data Scientist: Advanced Analytics   \n",
       "2               Principal - Data Scientist   \n",
       "3  Data Scientist: Artificial Intelligence   \n",
       "4  Data Scientist: Artificial Intelligence   \n",
       "5                    Senior Data Scientist   \n",
       "6                           Data Scientist   \n",
       "7                           Data Scientist   \n",
       "8                           Data Scientist   \n",
       "9                           Data Scientist   \n",
       "\n",
       "                               company  \\\n",
       "0               IBM India Pvt. Limited   \n",
       "1               IBM India Pvt. Limited   \n",
       "2   Schneider Electric India Pvt. Ltd.   \n",
       "3               IBM India Pvt. Limited   \n",
       "4               IBM India Pvt. Limited   \n",
       "5                         Walmart Labs   \n",
       "6  Shell India Markets Private Limited   \n",
       "7               IBM India Pvt. Limited   \n",
       "8               IBM India Pvt. Limited   \n",
       "9               IBM India Pvt. Limited   \n",
       "\n",
       "                                 experience_required  \n",
       "0                                          3-7 years  \n",
       "1                                      Not Disclosed  \n",
       "2                                   Gurgaon/Gurugram  \n",
       "3                                            3-7 Yrs  \n",
       "4                                      Not Disclosed  \n",
       "5                                   Gurgaon/Gurugram  \n",
       "6  open source, product development, enterprise a...  \n",
       "7                                           5-10 Yrs  \n",
       "8                                      Not Disclosed  \n",
       "9                                   Gurgaon/Gurugram  "
      ]
     },
     "execution_count": 60,
     "metadata": {},
     "output_type": "execute_result"
    }
   ],
   "source": [
    "jobs"
   ]
  },
  {
   "cell_type": "markdown",
   "id": "59b9b487",
   "metadata": {},
   "source": [
    "# 10.a python program to scrape the salary data for Data Scientist designation.\n"
   ]
  },
  {
   "cell_type": "code",
   "execution_count": 174,
   "id": "9a84075d",
   "metadata": {},
   "outputs": [],
   "source": [
    "driver=webdriver.Chrome(\"chromedriver.exe\")\n",
    "driver.get(\"https://www.ambitionbox.com/\")\n",
    "from selenium .webdriver.common.by import By"
   ]
  },
  {
   "cell_type": "code",
   "execution_count": 175,
   "id": "6818e9b9",
   "metadata": {},
   "outputs": [],
   "source": [
    "driver.find_element(By.XPATH,'/html/body/div[1]/nav/nav/a[4]').click()"
   ]
  },
  {
   "cell_type": "code",
   "execution_count": 177,
   "id": "ead5dddd",
   "metadata": {},
   "outputs": [],
   "source": [
    "driver.find_element(By.XPATH,'/html/body/div/div/div/main/section[1]/div[2]/div[1]/span/input').send_keys('Data Scientist')"
   ]
  },
  {
   "cell_type": "code",
   "execution_count": 178,
   "id": "071e5bc4",
   "metadata": {},
   "outputs": [],
   "source": [
    "ds=driver.find_elements(By.XPATH,\"//div[@class='suggestion_wrap tt-suggestion tt-selectable']\")\n",
    "for i in ds:\n",
    "    if i.text == 'Data Scientist':   \n",
    "        i.click() # click on “Data Scientist”\n",
    "        break  "
   ]
  },
  {
   "cell_type": "code",
   "execution_count": null,
   "id": "c14e12c3",
   "metadata": {},
   "outputs": [],
   "source": []
  }
 ],
 "metadata": {
  "kernelspec": {
   "display_name": "Python 3 (ipykernel)",
   "language": "python",
   "name": "python3"
  },
  "language_info": {
   "codemirror_mode": {
    "name": "ipython",
    "version": 3
   },
   "file_extension": ".py",
   "mimetype": "text/x-python",
   "name": "python",
   "nbconvert_exporter": "python",
   "pygments_lexer": "ipython3",
   "version": "3.9.7"
  }
 },
 "nbformat": 4,
 "nbformat_minor": 5
}
